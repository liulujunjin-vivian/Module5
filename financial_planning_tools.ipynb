{
 "cells": [
  {
   "cell_type": "markdown",
   "metadata": {},
   "source": [
    "# Financial Planning with APIs and Simulations\n",
    "\n",
    "In this Challenge, you’ll create two financial analysis tools by using a single Jupyter notebook:\n",
    "\n",
    "Part 1: A financial planner for emergencies. The members will be able to use this tool to visualize their current savings. The members can then determine if they have enough reserves for an emergency fund.\n",
    "\n",
    "Part 2: A financial planner for retirement. This tool will forecast the performance of their retirement portfolio in 30 years. To do this, the tool will make an Alpaca API call via the Alpaca SDK to get historical price data for use in Monte Carlo simulations.\n",
    "\n",
    "You’ll use the information from the Monte Carlo simulation to answer questions about the portfolio in your Jupyter notebook.\n",
    "\n"
   ]
  },
  {
   "cell_type": "code",
   "execution_count": 1,
   "metadata": {},
   "outputs": [],
   "source": [
    "# Import the required libraries and dependencies\n",
    "import os\n",
    "import requests\n",
    "import json\n",
    "import pandas as pd\n",
    "from dotenv import load_dotenv\n",
    "import alpaca_trade_api as tradeapi\n",
    "from MCForecastTools import MCSimulation\n",
    "\n",
    "%matplotlib inline"
   ]
  },
  {
   "cell_type": "code",
   "execution_count": 2,
   "metadata": {},
   "outputs": [
    {
     "data": {
      "text/plain": [
       "True"
      ]
     },
     "execution_count": 2,
     "metadata": {},
     "output_type": "execute_result"
    }
   ],
   "source": [
    "# Load the environment variables from the .env file\n",
    "#by calling the load_dotenv function\n",
    "load_dotenv()"
   ]
  },
  {
   "cell_type": "markdown",
   "metadata": {},
   "source": [
    "## Part 1: Create a Financial Planner for Emergencies"
   ]
  },
  {
   "cell_type": "markdown",
   "metadata": {},
   "source": [
    "### Evaluate the Cryptocurrency Wallet by Using the Requests Library\n",
    "\n",
    "In this section, you’ll determine the current value of a member’s cryptocurrency wallet. You’ll collect the current prices for the Bitcoin and Ethereum cryptocurrencies by using the Python Requests library. For the prototype, you’ll assume that the member holds the 1.2 Bitcoins (BTC) and 5.3 Ethereum coins (ETH). To do all this, complete the following steps:\n",
    "\n",
    "1. Create a variable named `monthly_income`, and set its value to `12000`.\n",
    "\n",
    "2. Use the Requests library to get the current price (in US dollars) of Bitcoin (BTC) and Ethereum (ETH) by using the API endpoints that the starter code supplies.\n",
    "\n",
    "3. Navigate the JSON response object to access the current price of each coin, and store each in a variable.\n",
    "\n",
    "    > **Hint** Note the specific identifier for each cryptocurrency in the API JSON response. The Bitcoin identifier is `1`, and the Ethereum identifier is `1027`.\n",
    "\n",
    "4. Calculate the value, in US dollars, of the current amount of each cryptocurrency and of the entire cryptocurrency wallet.\n",
    "\n"
   ]
  },
  {
   "cell_type": "code",
   "execution_count": 3,
   "metadata": {},
   "outputs": [],
   "source": [
    "# The current number of coins for each cryptocurrency asset held in the portfolio.\n",
    "btc_coins = 1.2\n",
    "eth_coins = 5.3"
   ]
  },
  {
   "cell_type": "markdown",
   "metadata": {},
   "source": [
    "#### Step 1: Create a variable named `monthly_income`, and set its value to `12000`."
   ]
  },
  {
   "cell_type": "code",
   "execution_count": 4,
   "metadata": {},
   "outputs": [],
   "source": [
    "# The monthly amount for the member's household income\n",
    "# YOUR CODE HERE\n",
    "monthly_income = 12000"
   ]
  },
  {
   "cell_type": "markdown",
   "metadata": {},
   "source": [
    "#### Review the endpoint URLs for the API calls to Free Crypto API in order to get the current pricing information for both BTC and ETH."
   ]
  },
  {
   "cell_type": "code",
   "execution_count": 5,
   "metadata": {},
   "outputs": [],
   "source": [
    "# The Free Crypto API Call endpoint URLs for the held cryptocurrency assets\n",
    "btc_url = \"https://api.alternative.me/v2/ticker/Bitcoin/?convert=USD\"\n",
    "eth_url = \"https://api.alternative.me/v2/ticker/Ethereum/?convert=USD\""
   ]
  },
  {
   "cell_type": "markdown",
   "metadata": {},
   "source": [
    "#### Step 2. Use the Requests library to get the current price (in US dollars) of Bitcoin (BTC) and Ethereum (ETH) by using the API endpoints that the starter code supplied."
   ]
  },
  {
   "cell_type": "code",
   "execution_count": 6,
   "metadata": {},
   "outputs": [],
   "source": [
    "# Using the Python requests library, make an API call to access the current price of BTC\n",
    "#btc_response = # YOUR CODE HERE\n",
    "\n",
    "# Use the json.dumps function to review the response data from the API call\n",
    "# Use the indent and sort_keys parameters to make the response object readable\n",
    "# YOUR CODE HERE\n",
    "# code will be listed in the next cell to ensure answer_neatness"
   ]
  },
  {
   "cell_type": "code",
   "execution_count": 7,
   "metadata": {},
   "outputs": [],
   "source": [
    "# using request library, make API call to access current price of BTC\n",
    "btc_response = requests.get(btc_url).json()"
   ]
  },
  {
   "cell_type": "code",
   "execution_count": 8,
   "metadata": {},
   "outputs": [
    {
     "name": "stdout",
     "output_type": "stream",
     "text": [
      "{\n",
      "    \"data\": {\n",
      "        \"1\": {\n",
      "            \"circulating_supply\": 19098931,\n",
      "            \"id\": 1,\n",
      "            \"last_updated\": 1658370564,\n",
      "            \"max_supply\": 21000000,\n",
      "            \"name\": \"Bitcoin\",\n",
      "            \"quotes\": {\n",
      "                \"USD\": {\n",
      "                    \"market_cap\": 444733839520,\n",
      "                    \"percent_change_1h\": -0.740580066899219,\n",
      "                    \"percent_change_24h\": -0.715678152881886,\n",
      "                    \"percent_change_7d\": 14.5560772340771,\n",
      "                    \"percentage_change_1h\": -0.740580066899219,\n",
      "                    \"percentage_change_24h\": -0.715678152881886,\n",
      "                    \"percentage_change_7d\": 14.5560772340771,\n",
      "                    \"price\": 23169.0,\n",
      "                    \"volume_24h\": 41503756703\n",
      "                }\n",
      "            },\n",
      "            \"rank\": 1,\n",
      "            \"symbol\": \"BTC\",\n",
      "            \"total_supply\": 19098931,\n",
      "            \"website_slug\": \"bitcoin\"\n",
      "        }\n",
      "    },\n",
      "    \"metadata\": {\n",
      "        \"error\": null,\n",
      "        \"num_cryptocurrencies\": 3116,\n",
      "        \"timestamp\": 1658370564\n",
      "    }\n",
      "}\n"
     ]
    }
   ],
   "source": [
    "# using json.dumps to review the API call, with parameters indent and sort_keys\n",
    "print(json.dumps(btc_response, indent = 4, sort_keys = True))"
   ]
  },
  {
   "cell_type": "code",
   "execution_count": 9,
   "metadata": {},
   "outputs": [],
   "source": [
    "# Using the Python requests library, make an API call to access the current price ETH\n",
    "#eth_response = # YOUR CODE HERE\n",
    "\n",
    "# Use the json.dumps function to review the response data from the API call\n",
    "# Use the indent and sort_keys parameters to make the response object readable\n",
    "# YOUR CODE HERE\n",
    "# code will be listed in the next cell to ensure answer_neatness"
   ]
  },
  {
   "cell_type": "code",
   "execution_count": 10,
   "metadata": {},
   "outputs": [],
   "source": [
    "# using request library, make API call to access current price of ETH\n",
    "eth_response = requests.get(eth_url).json()"
   ]
  },
  {
   "cell_type": "code",
   "execution_count": 11,
   "metadata": {},
   "outputs": [
    {
     "name": "stdout",
     "output_type": "stream",
     "text": [
      "{\n",
      "    \"data\": {\n",
      "        \"1027\": {\n",
      "            \"circulating_supply\": 119759430,\n",
      "            \"id\": 1027,\n",
      "            \"last_updated\": 1658370520,\n",
      "            \"max_supply\": 119759073,\n",
      "            \"name\": \"Ethereum\",\n",
      "            \"quotes\": {\n",
      "                \"USD\": {\n",
      "                    \"market_cap\": 183724099725,\n",
      "                    \"percent_change_1h\": -0.873824082682385,\n",
      "                    \"percent_change_24h\": -1.05880122146567,\n",
      "                    \"percent_change_7d\": 36.8986325746912,\n",
      "                    \"percentage_change_1h\": -0.873824082682385,\n",
      "                    \"percentage_change_24h\": -1.05880122146567,\n",
      "                    \"percentage_change_7d\": 36.8986325746912,\n",
      "                    \"price\": 1523.57,\n",
      "                    \"volume_24h\": 21269541405\n",
      "                }\n",
      "            },\n",
      "            \"rank\": 2,\n",
      "            \"symbol\": \"ETH\",\n",
      "            \"total_supply\": 119759430,\n",
      "            \"website_slug\": \"ethereum\"\n",
      "        }\n",
      "    },\n",
      "    \"metadata\": {\n",
      "        \"error\": null,\n",
      "        \"num_cryptocurrencies\": 3116,\n",
      "        \"timestamp\": 1658370520\n",
      "    }\n",
      "}\n"
     ]
    }
   ],
   "source": [
    "# using json.dumps to review the API call, with parameters indent and sort_keys\n",
    "print(json.dumps(eth_response, indent = 4, sort_keys = True))"
   ]
  },
  {
   "cell_type": "markdown",
   "metadata": {},
   "source": [
    "#### Step 3: Navigate the JSON response object to access the current price of each coin, and store each in a variable."
   ]
  },
  {
   "cell_type": "code",
   "execution_count": 12,
   "metadata": {},
   "outputs": [],
   "source": [
    "# Navigate the BTC response object to access the current price of BTC\n",
    "#btc_price = # YOUR CODE HERE\n",
    "\n",
    "# Print the current price of BTC\n",
    "# YOUR CODE HERE\n",
    "# code will be listed in the next cell to ensure answer_neatness"
   ]
  },
  {
   "cell_type": "code",
   "execution_count": 13,
   "metadata": {},
   "outputs": [
    {
     "name": "stdout",
     "output_type": "stream",
     "text": [
      "The price for BTC is 23169.0\n"
     ]
    }
   ],
   "source": [
    "# store the current price of BTC in a variable and print it out\n",
    "btc_price = btc_response['data']['1']['quotes']['USD']['price']\n",
    "print(f\"The price for BTC is {btc_price}\")"
   ]
  },
  {
   "cell_type": "code",
   "execution_count": 14,
   "metadata": {},
   "outputs": [],
   "source": [
    "# Navigate the BTC response object to access the current price of ETH\n",
    "#eth_price = # YOUR CODE HERE\n",
    "\n",
    "# Print the current price of ETH\n",
    "# YOUR CODE HERE\n",
    "# code will be listed in the next cell to ensure answer_neatness"
   ]
  },
  {
   "cell_type": "code",
   "execution_count": 15,
   "metadata": {},
   "outputs": [
    {
     "name": "stdout",
     "output_type": "stream",
     "text": [
      "The price for ETH is 1523.57\n"
     ]
    }
   ],
   "source": [
    "# store the current price of ETH in a variable and print it out\n",
    "eth_price = eth_response['data']['1027']['quotes']['USD']['price']\n",
    "print(f\"The price for ETH is {eth_price}\")"
   ]
  },
  {
   "cell_type": "markdown",
   "metadata": {},
   "source": [
    "### Step 4: Calculate the value, in US dollars, of the current amount of each cryptocurrency and of the entire cryptocurrency wallet."
   ]
  },
  {
   "cell_type": "code",
   "execution_count": 16,
   "metadata": {},
   "outputs": [],
   "source": [
    "# Compute the current value of the BTC holding \n",
    "#btc_value = # YOUR CODE HERE\n",
    "\n",
    "# Print current value of your holding in BTC\n",
    "# YOUR CODE HERE\n",
    "# code will be listed in the next cell to ensure answer_neatness"
   ]
  },
  {
   "cell_type": "code",
   "execution_count": 17,
   "metadata": {},
   "outputs": [
    {
     "name": "stdout",
     "output_type": "stream",
     "text": [
      "The value for BTC is $27802.8\n"
     ]
    }
   ],
   "source": [
    "# compute the current value of the BTC holding and print it out\n",
    "btc_value = btc_price * btc_coins\n",
    "print(f\"The value for BTC is ${btc_value}\")"
   ]
  },
  {
   "cell_type": "code",
   "execution_count": 18,
   "metadata": {},
   "outputs": [],
   "source": [
    "# Compute the current value of the ETH holding \n",
    "#eth_value = # YOUR CODE HERE\n",
    "\n",
    "# Print current value of your holding in ETH\n",
    "# YOUR CODE HERE\n",
    "# code will be listed in the next cell to ensure answer_neatness"
   ]
  },
  {
   "cell_type": "code",
   "execution_count": 19,
   "metadata": {},
   "outputs": [
    {
     "name": "stdout",
     "output_type": "stream",
     "text": [
      "The value for ETH is $8074.920999999999\n"
     ]
    }
   ],
   "source": [
    "# compute the current value of the ETH holding and print it out\n",
    "eth_value = eth_price * eth_coins\n",
    "print(f\"The value for ETH is ${eth_value}\")"
   ]
  },
  {
   "cell_type": "code",
   "execution_count": 20,
   "metadata": {},
   "outputs": [],
   "source": [
    "# Compute the total value of the cryptocurrency wallet\n",
    "# Add the value of the BTC holding to the value of the ETH holding\n",
    "#total_crypto_wallet = # YOUR CODE HERE\n",
    "\n",
    "# Print current cryptocurrency wallet balance\n",
    "# YOUR CODE HERE\n",
    "# code will be listed in the next cell to ensure answer_neatness"
   ]
  },
  {
   "cell_type": "code",
   "execution_count": 21,
   "metadata": {},
   "outputs": [
    {
     "name": "stdout",
     "output_type": "stream",
     "text": [
      "The total value of cryptocurrency wallet is $35877.721\n"
     ]
    }
   ],
   "source": [
    "# compute the total value of the cryptocurrency wallet\n",
    "total_crypto_wallet = btc_value + eth_value\n",
    "print(f\"The total value of cryptocurrency wallet is ${total_crypto_wallet}\")"
   ]
  },
  {
   "cell_type": "markdown",
   "metadata": {},
   "source": [
    "### Evaluate the Stock and Bond Holdings by Using the Alpaca SDK\n",
    "\n",
    "In this section, you’ll determine the current value of a member’s stock and bond holdings. You’ll make an API call to Alpaca via the Alpaca SDK to get the current closing prices of the SPDR S&P 500 ETF Trust (ticker: SPY) and of the iShares Core US Aggregate Bond ETF (ticker: AGG). For the prototype, assume that the member holds 110 shares of SPY, which represents the stock portion of their portfolio, and 200 shares of AGG, which represents the bond portion. To do all this, complete the following steps:\n",
    "\n",
    "1. In the `Starter_Code` folder, create an environment file (`.env`) to store the values of your Alpaca API key and Alpaca secret key.\n",
    "\n",
    "2. Set the variables for the Alpaca API and secret keys. Using the Alpaca SDK, create the Alpaca `tradeapi.REST` object. In this object, include the parameters for the Alpaca API key, the secret key, and the version number.\n",
    "\n",
    "3. Set the following parameters for the Alpaca API call:\n",
    "\n",
    "    - `tickers`: Use the tickers for the member’s stock and bond holdings.\n",
    "\n",
    "    - `timeframe`: Use a time frame of one day.\n",
    "\n",
    "    - `start_date` and `end_date`: Use the same date for these parameters, and format them with the date of the previous weekday (or `2020-08-07`). This is because you want the one closing price for the most-recent trading day.\n",
    "\n",
    "4. Get the current closing prices for `SPY` and `AGG` by using the Alpaca `get_bars` function. Format the response as a Pandas DataFrame by including the `df` property at the end of the `get_bars` function.\n",
    "\n",
    "5. Navigating the Alpaca response DataFrame, select the `SPY` and `AGG` closing prices, and store them as variables.\n",
    "\n",
    "6. Calculate the value, in US dollars, of the current amount of shares in each of the stock and bond portions of the portfolio, and print the results.\n"
   ]
  },
  {
   "cell_type": "markdown",
   "metadata": {},
   "source": [
    "#### Review the total number of shares held in both (SPY) and (AGG)."
   ]
  },
  {
   "cell_type": "code",
   "execution_count": 22,
   "metadata": {},
   "outputs": [],
   "source": [
    "# Current amount of shares held in both the stock (SPY) and bond (AGG) portion of the portfolio.\n",
    "spy_shares = 110\n",
    "agg_shares = 200\n"
   ]
  },
  {
   "cell_type": "markdown",
   "metadata": {},
   "source": [
    "#### Step 1: In the `Starter_Code` folder, create an environment file (`.env`) to store the values of your Alpaca API key and Alpaca secret key."
   ]
  },
  {
   "cell_type": "markdown",
   "metadata": {},
   "source": [
    "#### Step 2: Set the variables for the Alpaca API and secret keys. Using the Alpaca SDK, create the Alpaca `tradeapi.REST` object. In this object, include the parameters for the Alpaca API key, the secret key, and the version number."
   ]
  },
  {
   "cell_type": "code",
   "execution_count": 23,
   "metadata": {},
   "outputs": [],
   "source": [
    "# Set the variables for the Alpaca API and secret keys\n",
    "# YOUR CODE HERE\n",
    "# YOUR CODE HERE\n",
    "\n",
    "# Create the Alpaca tradeapi.REST object\n",
    "# YOUR CODE HERE\n",
    "# code will be listed in the next cell to ensure answer_neatness"
   ]
  },
  {
   "cell_type": "code",
   "execution_count": 24,
   "metadata": {},
   "outputs": [],
   "source": [
    "# Set the variables for the Alpaca API and secret keys\n",
    "alpaca_api_key = os.getenv(\"ALPACA_API_KEY\")\n",
    "alpaca_secret_key = os.getenv(\"ALPACA_SECRET_KEY\")"
   ]
  },
  {
   "cell_type": "code",
   "execution_count": 25,
   "metadata": {},
   "outputs": [],
   "source": [
    "# Create the Alpaca tradeapi.REST object\n",
    "alpaca = tradeapi.REST(alpaca_api_key, alpaca_secret_key, api_version=\"v2\")"
   ]
  },
  {
   "cell_type": "markdown",
   "metadata": {},
   "source": [
    "#### Step 3: Set the following parameters for the Alpaca API call:\n",
    "\n",
    "- `tickers`: Use the tickers for the member’s stock and bond holdings.\n",
    "\n",
    "- `timeframe`: Use a time frame of one day.\n",
    "\n",
    "- `start_date` and `end_date`: Use the same date for these parameters, and format them with the date of the previous weekday (or `2020-08-07`). This is because you want the one closing price for the most-recent trading day.\n"
   ]
  },
  {
   "cell_type": "code",
   "execution_count": 26,
   "metadata": {},
   "outputs": [],
   "source": [
    "# Set the tickers for both the bond and stock portion of the portfolio\n",
    "# YOUR CODE HERE\n",
    "\n",
    "# Set timeframe to 1Day\n",
    "# YOUR CODE HERE\n",
    "\n",
    "# Format current date as ISO format\n",
    "# Set both the start and end date at the date of your prior weekday \n",
    "# This will give you the closing price of the previous trading day\n",
    "# Alternatively you can use a start and end date of 2020-08-07\n",
    "# YOUR CODE HERE\n",
    "# YOUR CODE HERE\n",
    "# code will be listed in the next cell to ensure answer_neatness"
   ]
  },
  {
   "cell_type": "code",
   "execution_count": 27,
   "metadata": {},
   "outputs": [],
   "source": [
    "# Set the tickers for both the bond and stock portion of the portfolio\n",
    "tickers = [\"SPY\", \"AGG\"]"
   ]
  },
  {
   "cell_type": "code",
   "execution_count": 28,
   "metadata": {},
   "outputs": [],
   "source": [
    "# Set timeframe to 1Day\n",
    "timeframe = \"1Day\""
   ]
  },
  {
   "cell_type": "code",
   "execution_count": 29,
   "metadata": {},
   "outputs": [],
   "source": [
    "# Set both the start and end date at the date of your prior weekday \n",
    "start_date = pd.Timestamp(\"2022-07-11\", tz=\"America/New_York\").isoformat()\n",
    "end_date = pd.Timestamp(\"2022-07-15\", tz=\"America/New_York\").isoformat()"
   ]
  },
  {
   "cell_type": "markdown",
   "metadata": {},
   "source": [
    "#### Step 4: Get the current closing prices for `SPY` and `AGG` by using the Alpaca `get_bars` function. Format the response as a Pandas DataFrame by including the `df` property at the end of the `get_bars` function."
   ]
  },
  {
   "cell_type": "code",
   "execution_count": 30,
   "metadata": {},
   "outputs": [],
   "source": [
    "# Use the Alpaca get_bars function to get current closing prices the portfolio\n",
    "# Be sure to set the `df` property after the function to format the response object as a DataFrame\n",
    "# YOUR CODE HERE\n",
    "\n",
    "# Reorganize the DataFrame\n",
    "# Separate ticker data\n",
    "# YOUR CODE HERE\n",
    "\n",
    "# Concatenate the ticker DataFrames\n",
    "# YOUR CODE HERE\n",
    "\n",
    "# Review the first 5 rows of the Alpaca DataFrame\n",
    "# YOUR CODE HERE\n",
    "# code will be listed in the next cell to ensure answer_neatness"
   ]
  },
  {
   "cell_type": "code",
   "execution_count": 31,
   "metadata": {},
   "outputs": [],
   "source": [
    "# Use Alpaca get_bars function to get current closing prices the portfolio\n",
    "df_alpaca = alpaca.get_bars(tickers, timeframe, start = start_date, end = end_date).df"
   ]
  },
  {
   "cell_type": "code",
   "execution_count": 33,
   "metadata": {},
   "outputs": [],
   "source": [
    "# test code\n",
    "#df_alpaca"
   ]
  },
  {
   "cell_type": "code",
   "execution_count": 34,
   "metadata": {},
   "outputs": [],
   "source": [
    "# Reorganize the DataFrame\n",
    "AGG = df_alpaca[df_alpaca['symbol']=='AGG'].drop('symbol', axis=1)\n",
    "SPY = df_alpaca[df_alpaca['symbol']=='SPY'].drop('symbol', axis=1)"
   ]
  },
  {
   "cell_type": "code",
   "execution_count": 35,
   "metadata": {},
   "outputs": [],
   "source": [
    "# Concatenate the ticker DataFrames\n",
    "df_alpaca = pd.concat([AGG,SPY],axis=1, keys=['AGG','SPY'])"
   ]
  },
  {
   "cell_type": "code",
   "execution_count": 36,
   "metadata": {},
   "outputs": [
    {
     "data": {
      "text/html": [
       "<div>\n",
       "<style scoped>\n",
       "    .dataframe tbody tr th:only-of-type {\n",
       "        vertical-align: middle;\n",
       "    }\n",
       "\n",
       "    .dataframe tbody tr th {\n",
       "        vertical-align: top;\n",
       "    }\n",
       "\n",
       "    .dataframe thead tr th {\n",
       "        text-align: left;\n",
       "    }\n",
       "\n",
       "    .dataframe thead tr:last-of-type th {\n",
       "        text-align: right;\n",
       "    }\n",
       "</style>\n",
       "<table border=\"1\" class=\"dataframe\">\n",
       "  <thead>\n",
       "    <tr>\n",
       "      <th></th>\n",
       "      <th colspan=\"7\" halign=\"left\">AGG</th>\n",
       "      <th colspan=\"7\" halign=\"left\">SPY</th>\n",
       "    </tr>\n",
       "    <tr>\n",
       "      <th></th>\n",
       "      <th>open</th>\n",
       "      <th>high</th>\n",
       "      <th>low</th>\n",
       "      <th>close</th>\n",
       "      <th>volume</th>\n",
       "      <th>trade_count</th>\n",
       "      <th>vwap</th>\n",
       "      <th>open</th>\n",
       "      <th>high</th>\n",
       "      <th>low</th>\n",
       "      <th>close</th>\n",
       "      <th>volume</th>\n",
       "      <th>trade_count</th>\n",
       "      <th>vwap</th>\n",
       "    </tr>\n",
       "    <tr>\n",
       "      <th>timestamp</th>\n",
       "      <th></th>\n",
       "      <th></th>\n",
       "      <th></th>\n",
       "      <th></th>\n",
       "      <th></th>\n",
       "      <th></th>\n",
       "      <th></th>\n",
       "      <th></th>\n",
       "      <th></th>\n",
       "      <th></th>\n",
       "      <th></th>\n",
       "      <th></th>\n",
       "      <th></th>\n",
       "      <th></th>\n",
       "    </tr>\n",
       "  </thead>\n",
       "  <tbody>\n",
       "    <tr>\n",
       "      <th>2022-07-11 04:00:00+00:00</th>\n",
       "      <td>101.67</td>\n",
       "      <td>101.92</td>\n",
       "      <td>101.6029</td>\n",
       "      <td>101.70</td>\n",
       "      <td>5758310</td>\n",
       "      <td>17084</td>\n",
       "      <td>101.720884</td>\n",
       "      <td>385.91</td>\n",
       "      <td>386.8700</td>\n",
       "      <td>383.500</td>\n",
       "      <td>384.23</td>\n",
       "      <td>58100363</td>\n",
       "      <td>473423</td>\n",
       "      <td>384.871994</td>\n",
       "    </tr>\n",
       "    <tr>\n",
       "      <th>2022-07-12 04:00:00+00:00</th>\n",
       "      <td>102.02</td>\n",
       "      <td>102.19</td>\n",
       "      <td>101.8200</td>\n",
       "      <td>101.84</td>\n",
       "      <td>6664991</td>\n",
       "      <td>21057</td>\n",
       "      <td>102.039440</td>\n",
       "      <td>383.66</td>\n",
       "      <td>386.1600</td>\n",
       "      <td>378.990</td>\n",
       "      <td>380.83</td>\n",
       "      <td>62027220</td>\n",
       "      <td>512244</td>\n",
       "      <td>382.617620</td>\n",
       "    </tr>\n",
       "    <tr>\n",
       "      <th>2022-07-13 04:00:00+00:00</th>\n",
       "      <td>101.23</td>\n",
       "      <td>102.24</td>\n",
       "      <td>101.1900</td>\n",
       "      <td>102.21</td>\n",
       "      <td>6514247</td>\n",
       "      <td>26716</td>\n",
       "      <td>101.977478</td>\n",
       "      <td>375.09</td>\n",
       "      <td>381.9200</td>\n",
       "      <td>374.658</td>\n",
       "      <td>378.83</td>\n",
       "      <td>83575452</td>\n",
       "      <td>671953</td>\n",
       "      <td>378.819688</td>\n",
       "    </tr>\n",
       "    <tr>\n",
       "      <th>2022-07-14 04:00:00+00:00</th>\n",
       "      <td>101.51</td>\n",
       "      <td>101.98</td>\n",
       "      <td>101.3300</td>\n",
       "      <td>101.85</td>\n",
       "      <td>6224496</td>\n",
       "      <td>24722</td>\n",
       "      <td>101.747120</td>\n",
       "      <td>373.99</td>\n",
       "      <td>379.0498</td>\n",
       "      <td>371.040</td>\n",
       "      <td>377.91</td>\n",
       "      <td>89349688</td>\n",
       "      <td>637416</td>\n",
       "      <td>375.589384</td>\n",
       "    </tr>\n",
       "    <tr>\n",
       "      <th>2022-07-15 04:00:00+00:00</th>\n",
       "      <td>101.94</td>\n",
       "      <td>102.35</td>\n",
       "      <td>101.9000</td>\n",
       "      <td>102.25</td>\n",
       "      <td>8440151</td>\n",
       "      <td>27300</td>\n",
       "      <td>102.214854</td>\n",
       "      <td>382.62</td>\n",
       "      <td>385.2500</td>\n",
       "      <td>380.540</td>\n",
       "      <td>385.13</td>\n",
       "      <td>79318992</td>\n",
       "      <td>488124</td>\n",
       "      <td>383.334989</td>\n",
       "    </tr>\n",
       "  </tbody>\n",
       "</table>\n",
       "</div>"
      ],
      "text/plain": [
       "                              AGG                                     \\\n",
       "                             open    high       low   close   volume   \n",
       "timestamp                                                              \n",
       "2022-07-11 04:00:00+00:00  101.67  101.92  101.6029  101.70  5758310   \n",
       "2022-07-12 04:00:00+00:00  102.02  102.19  101.8200  101.84  6664991   \n",
       "2022-07-13 04:00:00+00:00  101.23  102.24  101.1900  102.21  6514247   \n",
       "2022-07-14 04:00:00+00:00  101.51  101.98  101.3300  101.85  6224496   \n",
       "2022-07-15 04:00:00+00:00  101.94  102.35  101.9000  102.25  8440151   \n",
       "\n",
       "                                                      SPY                     \\\n",
       "                          trade_count        vwap    open      high      low   \n",
       "timestamp                                                                      \n",
       "2022-07-11 04:00:00+00:00       17084  101.720884  385.91  386.8700  383.500   \n",
       "2022-07-12 04:00:00+00:00       21057  102.039440  383.66  386.1600  378.990   \n",
       "2022-07-13 04:00:00+00:00       26716  101.977478  375.09  381.9200  374.658   \n",
       "2022-07-14 04:00:00+00:00       24722  101.747120  373.99  379.0498  371.040   \n",
       "2022-07-15 04:00:00+00:00       27300  102.214854  382.62  385.2500  380.540   \n",
       "\n",
       "                                                                     \n",
       "                            close    volume trade_count        vwap  \n",
       "timestamp                                                            \n",
       "2022-07-11 04:00:00+00:00  384.23  58100363      473423  384.871994  \n",
       "2022-07-12 04:00:00+00:00  380.83  62027220      512244  382.617620  \n",
       "2022-07-13 04:00:00+00:00  378.83  83575452      671953  378.819688  \n",
       "2022-07-14 04:00:00+00:00  377.91  89349688      637416  375.589384  \n",
       "2022-07-15 04:00:00+00:00  385.13  79318992      488124  383.334989  "
      ]
     },
     "execution_count": 36,
     "metadata": {},
     "output_type": "execute_result"
    }
   ],
   "source": [
    "# Review the first 5 rows of Alpaca DataFrame\n",
    "df_alpaca.head()"
   ]
  },
  {
   "cell_type": "markdown",
   "metadata": {},
   "source": [
    "#### Step 5: Navigating the Alpaca response DataFrame, select the `SPY` and `AGG` closing prices, and store them as variables."
   ]
  },
  {
   "cell_type": "code",
   "execution_count": 37,
   "metadata": {},
   "outputs": [],
   "source": [
    "# Access the closing price for AGG from the Alpaca DataFrame\n",
    "# Converting the value to a floating point number\n",
    "#agg_close_price = # YOUR CODE HERE\n",
    "\n",
    "# Print the AGG closing price\n",
    "# YOUR CODE HERE\n",
    "# code will be listed in the next cell to ensure answer_neatness"
   ]
  },
  {
   "cell_type": "code",
   "execution_count": 38,
   "metadata": {},
   "outputs": [
    {
     "data": {
      "text/plain": [
       "timestamp\n",
       "2022-07-11 04:00:00+00:00    101.70\n",
       "2022-07-12 04:00:00+00:00    101.84\n",
       "2022-07-13 04:00:00+00:00    102.21\n",
       "2022-07-14 04:00:00+00:00    101.85\n",
       "2022-07-15 04:00:00+00:00    102.25\n",
       "Name: close, dtype: float64"
      ]
     },
     "execution_count": 38,
     "metadata": {},
     "output_type": "execute_result"
    }
   ],
   "source": [
    "agg_close_price = df_alpaca['AGG']['close']\n",
    "agg_close_price"
   ]
  },
  {
   "cell_type": "code",
   "execution_count": 39,
   "metadata": {},
   "outputs": [],
   "source": [
    "# Access the closing price for SPY from the Alpaca DataFrame\n",
    "# Converting the value to a floating point number\n",
    "#spy_close_price = # YOUR CODE HERE\n",
    "\n",
    "# Print the SPY closing price\n",
    "# YOUR CODE HERE\n",
    "# code will be listed in the next cell to ensure answer_neatness"
   ]
  },
  {
   "cell_type": "code",
   "execution_count": 40,
   "metadata": {},
   "outputs": [
    {
     "data": {
      "text/plain": [
       "timestamp\n",
       "2022-07-11 04:00:00+00:00    384.23\n",
       "2022-07-12 04:00:00+00:00    380.83\n",
       "2022-07-13 04:00:00+00:00    378.83\n",
       "2022-07-14 04:00:00+00:00    377.91\n",
       "2022-07-15 04:00:00+00:00    385.13\n",
       "Name: close, dtype: float64"
      ]
     },
     "execution_count": 40,
     "metadata": {},
     "output_type": "execute_result"
    }
   ],
   "source": [
    "spy_close_price = df_alpaca['SPY']['close']\n",
    "spy_close_price"
   ]
  },
  {
   "cell_type": "markdown",
   "metadata": {},
   "source": [
    "#### Step 6: Calculate the value, in US dollars, of the current amount of shares in each of the stock and bond portions of the portfolio, and print the results."
   ]
  },
  {
   "cell_type": "code",
   "execution_count": 41,
   "metadata": {},
   "outputs": [],
   "source": [
    "# Calculate the current value of the bond portion of the portfolio\n",
    "#agg_value = # YOUR CODE HERE\n",
    "\n",
    "# Print the current value of the bond portfolio\n",
    "# YOUR CODE HERE\n",
    "# code will be listed in the next cell to ensure answer_neatness"
   ]
  },
  {
   "cell_type": "code",
   "execution_count": 42,
   "metadata": {},
   "outputs": [
    {
     "name": "stdout",
     "output_type": "stream",
     "text": [
      "The value for AGG is $20450.0\n"
     ]
    }
   ],
   "source": [
    "# Calculate the current value of the bond portion and print it\n",
    "agg_value = agg_close_price[-1] * agg_shares\n",
    "print(f\"The value for AGG is ${agg_value}\")"
   ]
  },
  {
   "cell_type": "code",
   "execution_count": 43,
   "metadata": {},
   "outputs": [],
   "source": [
    "# Calculate the current value of the stock portion of the portfolio\n",
    "#spy_value = # YOUR CODE HERE\n",
    "\n",
    "# Print the current value of the stock portfolio\n",
    "# YOUR CODE HERE\n",
    "# code will be listed in the next cell to ensure answer_neatness"
   ]
  },
  {
   "cell_type": "code",
   "execution_count": 44,
   "metadata": {},
   "outputs": [
    {
     "name": "stdout",
     "output_type": "stream",
     "text": [
      "The value for SPY is $42364.3\n"
     ]
    }
   ],
   "source": [
    "# Calculate the current value of the stock portion of the portfolio\n",
    "spy_value = spy_close_price[-1] * spy_shares\n",
    "print(f\"The value for SPY is ${spy_value}\")"
   ]
  },
  {
   "cell_type": "code",
   "execution_count": 45,
   "metadata": {},
   "outputs": [],
   "source": [
    "# Calculate the total value of the stock and bond portion of the portfolio\n",
    "#total_stocks_bonds = # YOUR CODE HERE\n",
    "\n",
    "# Print the current balance of the stock and bond portion of the portfolio\n",
    "# YOUR CODE HERE\n",
    "# code will be listed in the next cell to ensure answer_neatness"
   ]
  },
  {
   "cell_type": "code",
   "execution_count": 46,
   "metadata": {},
   "outputs": [
    {
     "name": "stdout",
     "output_type": "stream",
     "text": [
      "The total value of stock and bonds is $62814.3\n"
     ]
    }
   ],
   "source": [
    "# Calculate the total value of the stock and bond portion of the portfolio\n",
    "total_stock_bonds = spy_value + agg_value\n",
    "print(f\"The total value of stock and bonds is ${total_stock_bonds}\")"
   ]
  },
  {
   "cell_type": "code",
   "execution_count": 47,
   "metadata": {},
   "outputs": [],
   "source": [
    "# Calculate the total value of the member's entire savings portfolio\n",
    "# Add the value of the cryptocurrency walled to the value of the total stocks and bonds\n",
    "#total_portfolio = # YOUR CODE HERE\n",
    "\n",
    "# Print current cryptocurrency wallet balance\n",
    "# YOUR CODE HERE\n",
    "# code will be listed in the next cell to ensure answer_neatness"
   ]
  },
  {
   "cell_type": "code",
   "execution_count": 48,
   "metadata": {},
   "outputs": [
    {
     "name": "stdout",
     "output_type": "stream",
     "text": [
      "The total value of the member's entire savings is $98692.02100000001\n"
     ]
    }
   ],
   "source": [
    "# Calculate the total value of the member's entire savings\n",
    "total_portfolio = total_stock_bonds + total_crypto_wallet\n",
    "print(f\"The total value of the member's entire savings is ${total_portfolio}\")"
   ]
  },
  {
   "cell_type": "markdown",
   "metadata": {},
   "source": [
    "### Evaluate the Emergency Fund\n",
    "\n",
    "In this section, you’ll use the valuations for the cryptocurrency wallet and for the stock and bond portions of the portfolio to determine if the credit union member has enough savings to build an emergency fund into their financial plan. To do this, complete the following steps:\n",
    "\n",
    "1. Create a Python list named `savings_data` that has two elements. The first element contains the total value of the cryptocurrency wallet. The second element contains the total value of the stock and bond portions of the portfolio.\n",
    "\n",
    "2. Use the `savings_data` list to create a Pandas DataFrame named `savings_df`, and then display this DataFrame. The function to create the DataFrame should take the following three parameters:\n",
    "\n",
    "    - `savings_data`: Use the list that you just created.\n",
    "\n",
    "    - `columns`: Set this parameter equal to a Python list with a single value called `amount`.\n",
    "\n",
    "    - `index`: Set this parameter equal to a Python list with the values of `crypto` and `stock/bond`.\n",
    "\n",
    "3. Use the `savings_df` DataFrame to plot a pie chart that visualizes the composition of the member’s portfolio. The y-axis of the pie chart uses `amount`. Be sure to add a title.\n",
    "\n",
    "4. Using Python, determine if the current portfolio has enough to create an emergency fund as part of the member’s financial plan. Ideally, an emergency fund should equal to three times the member’s monthly income. To do this, implement the following steps:\n",
    "\n",
    "    1. Create a variable named `emergency_fund_value`, and set it equal to three times the value of the member’s `monthly_income` of $12000. (You set this earlier in Part 1).\n",
    "\n",
    "    2. Create a series of three if statements to determine if the member’s total portfolio is large enough to fund the emergency portfolio:\n",
    "\n",
    "        1. If the total portfolio value is greater than the emergency fund value, display a message congratulating the member for having enough money in this fund.\n",
    "\n",
    "        2. Else if the total portfolio value is equal to the emergency fund value, display a message congratulating the member on reaching this important financial goal.\n",
    "\n",
    "        3. Else the total portfolio is less than the emergency fund value, so display a message showing how many dollars away the member is from reaching the goal. (Subtract the total portfolio value from the emergency fund value.)\n"
   ]
  },
  {
   "cell_type": "markdown",
   "metadata": {},
   "source": [
    "#### Step 1: Create a Python list named `savings_data` that has two elements. The first element contains the total value of the cryptocurrency wallet. The second element contains the total value of the stock and bond portions of the portfolio."
   ]
  },
  {
   "cell_type": "code",
   "execution_count": 52,
   "metadata": {},
   "outputs": [],
   "source": [
    "# Consolidate financial assets data into a Python list\n",
    "# YOUR CODE HERE\n",
    "\n",
    "# Review the Python list savings_data\n",
    "# YOUR CODE HERE\n",
    "# code will be listed in the next cell to ensure answer_neatness"
   ]
  },
  {
   "cell_type": "code",
   "execution_count": 53,
   "metadata": {},
   "outputs": [
    {
     "data": {
      "text/plain": [
       "[35877.721, 62814.3]"
      ]
     },
     "execution_count": 53,
     "metadata": {},
     "output_type": "execute_result"
    }
   ],
   "source": [
    "# Save the member's total cryptocurrency,total stock and bond in a list and print it\n",
    "savings_data = [total_crypto_wallet, total_stock_bonds]\n",
    "savings_data"
   ]
  },
  {
   "cell_type": "markdown",
   "metadata": {},
   "source": [
    "#### Step 2: Use the `savings_data` list to create a Pandas DataFrame named `savings_df`, and then display this DataFrame. The function to create the DataFrame should take the following three parameters:\n",
    "\n",
    "- `savings_data`: Use the list that you just created.\n",
    "\n",
    "- `columns`: Set this parameter equal to a Python list with a single value called `amount`.\n",
    "\n",
    "- `index`: Set this parameter equal to a Python list with the values of `crypto` and `stock/bond`.\n"
   ]
  },
  {
   "cell_type": "code",
   "execution_count": 54,
   "metadata": {},
   "outputs": [],
   "source": [
    "# Create a Pandas DataFrame called savings_df \n",
    "# YOUR CODE HERE\n",
    "\n",
    "# Display the savings_df DataFrame\n",
    "# YOUR CODE HERE\n",
    "# code will be listed in the next cell to ensure answer_neatness"
   ]
  },
  {
   "cell_type": "code",
   "execution_count": 55,
   "metadata": {},
   "outputs": [
    {
     "data": {
      "text/html": [
       "<div>\n",
       "<style scoped>\n",
       "    .dataframe tbody tr th:only-of-type {\n",
       "        vertical-align: middle;\n",
       "    }\n",
       "\n",
       "    .dataframe tbody tr th {\n",
       "        vertical-align: top;\n",
       "    }\n",
       "\n",
       "    .dataframe thead th {\n",
       "        text-align: right;\n",
       "    }\n",
       "</style>\n",
       "<table border=\"1\" class=\"dataframe\">\n",
       "  <thead>\n",
       "    <tr style=\"text-align: right;\">\n",
       "      <th></th>\n",
       "      <th>amount</th>\n",
       "    </tr>\n",
       "  </thead>\n",
       "  <tbody>\n",
       "    <tr>\n",
       "      <th>crypto</th>\n",
       "      <td>35877.721</td>\n",
       "    </tr>\n",
       "    <tr>\n",
       "      <th>stock/bond</th>\n",
       "      <td>62814.300</td>\n",
       "    </tr>\n",
       "  </tbody>\n",
       "</table>\n",
       "</div>"
      ],
      "text/plain": [
       "               amount\n",
       "crypto      35877.721\n",
       "stock/bond  62814.300"
      ]
     },
     "execution_count": 55,
     "metadata": {},
     "output_type": "execute_result"
    }
   ],
   "source": [
    "# Create DataFrame called savings_df and display\n",
    "savings_df = pd.DataFrame(savings_data, [\"crypto\",\"stock/bond\"], [\"amount\"])\n",
    "savings_df"
   ]
  },
  {
   "cell_type": "markdown",
   "metadata": {},
   "source": [
    "#### Step 3: Use the `savings_df` DataFrame to plot a pie chart that visualizes the composition of the member’s portfolio. The y-axis of the pie chart uses `amount`. Be sure to add a title."
   ]
  },
  {
   "cell_type": "code",
   "execution_count": 56,
   "metadata": {},
   "outputs": [],
   "source": [
    "# Plot the total value of the member's portfolio (crypto and stock/bond) in a pie chart\n",
    "# YOUR CODE HERE\n",
    "# code will be listed in the next cell to ensure answer_neatness"
   ]
  },
  {
   "cell_type": "code",
   "execution_count": 57,
   "metadata": {},
   "outputs": [
    {
     "data": {
      "text/plain": [
       "<matplotlib.axes._subplots.AxesSubplot at 0x7f90240fd690>"
      ]
     },
     "execution_count": 57,
     "metadata": {},
     "output_type": "execute_result"
    },
    {
     "data": {
      "image/png": "[encoded data removed]",
      "text/plain": [
       "<Figure size 720x720 with 1 Axes>"
      ]
     },
     "metadata": {},
     "output_type": "display_data"
    }
   ],
   "source": [
    "savings_df.plot(kind = \"pie\", y = \"amount\", title = \"Composition of the members's portfolio\", figsize = (10,10))"
   ]
  },
  {
   "cell_type": "markdown",
   "metadata": {},
   "source": [
    "#### Step 4: Using Python, determine if the current portfolio has enough to create an emergency fund as part of the member’s financial plan. Ideally, an emergency fund should equal to three times the member’s monthly income. To do this, implement the following steps:\n",
    "\n",
    "Step 1. Create a variable named `emergency_fund_value`, and set it equal to three times the value of the member’s `monthly_income` of 12000. (You set this earlier in Part 1).\n",
    "\n",
    "Step 2. Create a series of three if statements to determine if the member’s total portfolio is large enough to fund the emergency portfolio:\n",
    "\n",
    "* If the total portfolio value is greater than the emergency fund value, display a message congratulating the member for having enough money in this fund.\n",
    "\n",
    "* Else if the total portfolio value is equal to the emergency fund value, display a message congratulating the member on reaching this important financial goal.\n",
    "\n",
    "* Else the total portfolio is less than the emergency fund value, so display a message showing how many dollars away the member is from reaching the goal. (Subtract the total portfolio value from the emergency fund value.)\n"
   ]
  },
  {
   "cell_type": "markdown",
   "metadata": {},
   "source": [
    "##### Step 4-1: Create a variable named `emergency_fund_value`, and set it equal to three times the value of the member’s `monthly_income` of 12000. (You set this earlier in Part 1)."
   ]
  },
  {
   "cell_type": "code",
   "execution_count": 58,
   "metadata": {},
   "outputs": [],
   "source": [
    "# Create a variable named emergency_fund_value\n",
    "# YOUR CODE HERE\n",
    "# code will be listed in the next cell to ensure answer_neatness"
   ]
  },
  {
   "cell_type": "code",
   "execution_count": 59,
   "metadata": {},
   "outputs": [],
   "source": [
    "emergency_fund_value = monthly_income * 3"
   ]
  },
  {
   "cell_type": "markdown",
   "metadata": {},
   "source": [
    "##### Step 4-2: Create a series of three if statements to determine if the member’s total portfolio is large enough to fund the emergency portfolio:\n",
    "\n",
    "* If the total portfolio value is greater than the emergency fund value, display a message congratulating the member for having enough money in this fund.\n",
    "\n",
    "* Else if the total portfolio value is equal to the emergency fund value, display a message congratulating the member on reaching this important financial goal.\n",
    "\n",
    "* Else the total portfolio is less than the emergency fund value, so display a message showing how many dollars away the member is from reaching the goal. (Subtract the total portfolio value from the emergency fund value.)"
   ]
  },
  {
   "cell_type": "code",
   "execution_count": 60,
   "metadata": {},
   "outputs": [],
   "source": [
    "# Evaluate the possibility of creating an emergency fund with 3 conditions:\n",
    "# YOUR CODE HERE\n",
    "# YOUR CODE HERE\n",
    "# YOUR CODE HERE\n",
    "# code will be listed in the next cell to ensure answer_neatness"
   ]
  },
  {
   "cell_type": "code",
   "execution_count": 61,
   "metadata": {},
   "outputs": [
    {
     "name": "stdout",
     "output_type": "stream",
     "text": [
      "Congratulations, members has enough money in this fund\n"
     ]
    }
   ],
   "source": [
    "if total_portfolio > emergency_fund_value:\n",
    "    print(\"Congratulations, members has enough money in this fund\")\n",
    "elif total_portfolio == emergency_fund_value:\n",
    "    print(\"Congratulations, members reaches this important finacial goal\")\n",
    "else:\n",
    "    print(f\"You have ${total_portfolio - emergency_fund_value} missed.\")"
   ]
  },
  {
   "cell_type": "markdown",
   "metadata": {},
   "source": [
    "## Part 2: Create a Financial Planner for Retirement"
   ]
  },
  {
   "cell_type": "markdown",
   "metadata": {},
   "source": [
    "### Create the Monte Carlo Simulation\n",
    "\n",
    "In this section, you’ll use the MCForecastTools library to create a Monte Carlo simulation for the member’s savings portfolio. To do this, complete the following steps:\n",
    "\n",
    "1. Make an API call via the Alpaca SDK to get 3 years of historical closing prices for a traditional 60/40 portfolio split: 60% stocks (SPY) and 40% bonds (AGG).\n",
    "\n",
    "2. Run a Monte Carlo simulation of 500 samples and 30 years for the 60/40 portfolio, and then plot the results.The following image shows the overlay line plot resulting from a simulation with these characteristics. However, because a random number generator is used to run each live Monte Carlo simulation, your image will differ slightly from this exact image:\n",
    "\n",
    "![A screenshot depicts the resulting plot.](Images/5-4-monte-carlo-line-plot.png)\n",
    "\n",
    "3. Plot the probability distribution of the Monte Carlo simulation. Plot the probability distribution of the Monte Carlo simulation. The following image shows the histogram plot resulting from a simulation with these characteristics. However, because a random number generator is used to run each live Monte Carlo simulation, your image will differ slightly from this exact image:\n",
    "\n",
    "![A screenshot depicts the histogram plot.](Images/5-4-monte-carlo-histogram.png)\n",
    "\n",
    "4. Generate the summary statistics for the Monte Carlo simulation.\n",
    "\n"
   ]
  },
  {
   "cell_type": "markdown",
   "metadata": {},
   "source": [
    "#### Step 1: Make an API call via the Alpaca SDK to get 3 years of historical closing prices for a traditional 60/40 portfolio split: 60% stocks (SPY) and 40% bonds (AGG)."
   ]
  },
  {
   "cell_type": "code",
   "execution_count": 62,
   "metadata": {},
   "outputs": [],
   "source": [
    "# Set start and end dates of 3 years back from your current date\n",
    "# Alternatively, you can use an end date of 2020-08-07 and work 3 years back from that date \n",
    "# YOUR CODE HERE\n",
    "# YOUR CODE HERE\n",
    "# code will be listed in the next cell to ensure answer_neatness"
   ]
  },
  {
   "cell_type": "code",
   "execution_count": 63,
   "metadata": {},
   "outputs": [],
   "source": [
    "# Set start dates and end dates for Monte Carlo Simulation, use _MC declare variable to avoid jupyter misleading \n",
    "start_date_MC = pd.Timestamp(\"2019-07-20\", tz=\"America/New_York\").isoformat()\n",
    "end_date_MC = pd.Timestamp(\"2022-07-20\", tz=\"America/New_York\").isoformat()"
   ]
  },
  {
   "cell_type": "code",
   "execution_count": 64,
   "metadata": {},
   "outputs": [],
   "source": [
    "# Use the Alpaca get_bars function to make the API call to get the 3 years worth of pricing data\n",
    "# The tickers and timeframe parameters should have been set in Part 1 of this activity \n",
    "# The start and end dates should be updated with the information set above\n",
    "# Remember to add the df property to the end of the call so the response is returned as a DataFrame\n",
    "# YOUR CODE HERE\n",
    "\n",
    "# Reorganize the DataFrame\n",
    "# Separate ticker data\n",
    "# YOUR CODE HERE\n",
    "\n",
    "# Concatenate the ticker DataFrames\n",
    "# YOUR CODE HERE\n",
    "\n",
    "# Display both the first and last five rows of the DataFrame\n",
    "# YOUR CODE HERE\n",
    "# YOUR CODE HERE\n",
    "# code will be listed in the next cell to ensure answer_neatness"
   ]
  },
  {
   "cell_type": "code",
   "execution_count": 65,
   "metadata": {},
   "outputs": [],
   "source": [
    "# Create dataFrame for Monte Carlo Simulation, use _MC declare variable to avoid jupyter misleading \n",
    "df_alpaca_MC = alpaca.get_bars(tickers, timeframe, start = start_date_MC, end = end_date_MC).df"
   ]
  },
  {
   "cell_type": "code",
   "execution_count": 66,
   "metadata": {},
   "outputs": [
    {
     "data": {
      "text/html": [
       "<div>\n",
       "<style scoped>\n",
       "    .dataframe tbody tr th:only-of-type {\n",
       "        vertical-align: middle;\n",
       "    }\n",
       "\n",
       "    .dataframe tbody tr th {\n",
       "        vertical-align: top;\n",
       "    }\n",
       "\n",
       "    .dataframe thead th {\n",
       "        text-align: right;\n",
       "    }\n",
       "</style>\n",
       "<table border=\"1\" class=\"dataframe\">\n",
       "  <thead>\n",
       "    <tr style=\"text-align: right;\">\n",
       "      <th></th>\n",
       "      <th>open</th>\n",
       "      <th>high</th>\n",
       "      <th>low</th>\n",
       "      <th>close</th>\n",
       "      <th>volume</th>\n",
       "      <th>trade_count</th>\n",
       "      <th>vwap</th>\n",
       "      <th>symbol</th>\n",
       "    </tr>\n",
       "    <tr>\n",
       "      <th>timestamp</th>\n",
       "      <th></th>\n",
       "      <th></th>\n",
       "      <th></th>\n",
       "      <th></th>\n",
       "      <th></th>\n",
       "      <th></th>\n",
       "      <th></th>\n",
       "      <th></th>\n",
       "    </tr>\n",
       "  </thead>\n",
       "  <tbody>\n",
       "    <tr>\n",
       "      <th>2019-07-22 04:00:00+00:00</th>\n",
       "      <td>111.41</td>\n",
       "      <td>111.4100</td>\n",
       "      <td>111.3000</td>\n",
       "      <td>111.31</td>\n",
       "      <td>2855073</td>\n",
       "      <td>7937</td>\n",
       "      <td>111.344721</td>\n",
       "      <td>AGG</td>\n",
       "    </tr>\n",
       "    <tr>\n",
       "      <th>2019-07-23 04:00:00+00:00</th>\n",
       "      <td>111.27</td>\n",
       "      <td>111.3200</td>\n",
       "      <td>111.1600</td>\n",
       "      <td>111.20</td>\n",
       "      <td>2659305</td>\n",
       "      <td>10894</td>\n",
       "      <td>111.219201</td>\n",
       "      <td>AGG</td>\n",
       "    </tr>\n",
       "    <tr>\n",
       "      <th>2019-07-24 04:00:00+00:00</th>\n",
       "      <td>111.33</td>\n",
       "      <td>111.4100</td>\n",
       "      <td>111.2950</td>\n",
       "      <td>111.36</td>\n",
       "      <td>2783461</td>\n",
       "      <td>12750</td>\n",
       "      <td>111.337833</td>\n",
       "      <td>AGG</td>\n",
       "    </tr>\n",
       "    <tr>\n",
       "      <th>2019-07-25 04:00:00+00:00</th>\n",
       "      <td>111.33</td>\n",
       "      <td>111.3300</td>\n",
       "      <td>111.0474</td>\n",
       "      <td>111.19</td>\n",
       "      <td>2977486</td>\n",
       "      <td>11325</td>\n",
       "      <td>111.190464</td>\n",
       "      <td>AGG</td>\n",
       "    </tr>\n",
       "    <tr>\n",
       "      <th>2019-07-26 04:00:00+00:00</th>\n",
       "      <td>111.32</td>\n",
       "      <td>111.3200</td>\n",
       "      <td>111.1400</td>\n",
       "      <td>111.21</td>\n",
       "      <td>4669863</td>\n",
       "      <td>11477</td>\n",
       "      <td>111.195450</td>\n",
       "      <td>AGG</td>\n",
       "    </tr>\n",
       "    <tr>\n",
       "      <th>...</th>\n",
       "      <td>...</td>\n",
       "      <td>...</td>\n",
       "      <td>...</td>\n",
       "      <td>...</td>\n",
       "      <td>...</td>\n",
       "      <td>...</td>\n",
       "      <td>...</td>\n",
       "      <td>...</td>\n",
       "    </tr>\n",
       "    <tr>\n",
       "      <th>2022-07-14 04:00:00+00:00</th>\n",
       "      <td>373.99</td>\n",
       "      <td>379.0498</td>\n",
       "      <td>371.0400</td>\n",
       "      <td>377.91</td>\n",
       "      <td>89349688</td>\n",
       "      <td>637416</td>\n",
       "      <td>375.589384</td>\n",
       "      <td>SPY</td>\n",
       "    </tr>\n",
       "    <tr>\n",
       "      <th>2022-07-15 04:00:00+00:00</th>\n",
       "      <td>382.62</td>\n",
       "      <td>385.2500</td>\n",
       "      <td>380.5400</td>\n",
       "      <td>385.13</td>\n",
       "      <td>79318992</td>\n",
       "      <td>488124</td>\n",
       "      <td>383.334989</td>\n",
       "      <td>SPY</td>\n",
       "    </tr>\n",
       "    <tr>\n",
       "      <th>2022-07-18 04:00:00+00:00</th>\n",
       "      <td>388.27</td>\n",
       "      <td>389.0900</td>\n",
       "      <td>380.6600</td>\n",
       "      <td>381.95</td>\n",
       "      <td>62903915</td>\n",
       "      <td>489558</td>\n",
       "      <td>385.087984</td>\n",
       "      <td>SPY</td>\n",
       "    </tr>\n",
       "    <tr>\n",
       "      <th>2022-07-19 04:00:00+00:00</th>\n",
       "      <td>386.17</td>\n",
       "      <td>392.8700</td>\n",
       "      <td>385.4000</td>\n",
       "      <td>392.27</td>\n",
       "      <td>78242523</td>\n",
       "      <td>533601</td>\n",
       "      <td>389.362273</td>\n",
       "      <td>SPY</td>\n",
       "    </tr>\n",
       "    <tr>\n",
       "      <th>2022-07-20 04:00:00+00:00</th>\n",
       "      <td>392.50</td>\n",
       "      <td>396.2600</td>\n",
       "      <td>391.0300</td>\n",
       "      <td>394.77</td>\n",
       "      <td>70078151</td>\n",
       "      <td>525951</td>\n",
       "      <td>394.158894</td>\n",
       "      <td>SPY</td>\n",
       "    </tr>\n",
       "  </tbody>\n",
       "</table>\n",
       "<p>1512 rows × 8 columns</p>\n",
       "</div>"
      ],
      "text/plain": [
       "                             open      high       low   close    volume  \\\n",
       "timestamp                                                                 \n",
       "2019-07-22 04:00:00+00:00  111.41  111.4100  111.3000  111.31   2855073   \n",
       "2019-07-23 04:00:00+00:00  111.27  111.3200  111.1600  111.20   2659305   \n",
       "2019-07-24 04:00:00+00:00  111.33  111.4100  111.2950  111.36   2783461   \n",
       "2019-07-25 04:00:00+00:00  111.33  111.3300  111.0474  111.19   2977486   \n",
       "2019-07-26 04:00:00+00:00  111.32  111.3200  111.1400  111.21   4669863   \n",
       "...                           ...       ...       ...     ...       ...   \n",
       "2022-07-14 04:00:00+00:00  373.99  379.0498  371.0400  377.91  89349688   \n",
       "2022-07-15 04:00:00+00:00  382.62  385.2500  380.5400  385.13  79318992   \n",
       "2022-07-18 04:00:00+00:00  388.27  389.0900  380.6600  381.95  62903915   \n",
       "2022-07-19 04:00:00+00:00  386.17  392.8700  385.4000  392.27  78242523   \n",
       "2022-07-20 04:00:00+00:00  392.50  396.2600  391.0300  394.77  70078151   \n",
       "\n",
       "                           trade_count        vwap symbol  \n",
       "timestamp                                                  \n",
       "2019-07-22 04:00:00+00:00         7937  111.344721    AGG  \n",
       "2019-07-23 04:00:00+00:00        10894  111.219201    AGG  \n",
       "2019-07-24 04:00:00+00:00        12750  111.337833    AGG  \n",
       "2019-07-25 04:00:00+00:00        11325  111.190464    AGG  \n",
       "2019-07-26 04:00:00+00:00        11477  111.195450    AGG  \n",
       "...                                ...         ...    ...  \n",
       "2022-07-14 04:00:00+00:00       637416  375.589384    SPY  \n",
       "2022-07-15 04:00:00+00:00       488124  383.334989    SPY  \n",
       "2022-07-18 04:00:00+00:00       489558  385.087984    SPY  \n",
       "2022-07-19 04:00:00+00:00       533601  389.362273    SPY  \n",
       "2022-07-20 04:00:00+00:00       525951  394.158894    SPY  \n",
       "\n",
       "[1512 rows x 8 columns]"
      ]
     },
     "execution_count": 66,
     "metadata": {},
     "output_type": "execute_result"
    }
   ],
   "source": [
    "# Check the dataframe\n",
    "df_alpaca_MC"
   ]
  },
  {
   "cell_type": "code",
   "execution_count": 67,
   "metadata": {},
   "outputs": [],
   "source": [
    "# Separate ticker data\n",
    "SPY = df_alpaca_MC[df_alpaca_MC['symbol']=='SPY'].drop('symbol', axis=1)\n",
    "AGG = df_alpaca_MC[df_alpaca_MC['symbol']=='AGG'].drop('symbol', axis=1)"
   ]
  },
  {
   "cell_type": "code",
   "execution_count": 68,
   "metadata": {},
   "outputs": [],
   "source": [
    "# Concatenate the ticker DataFrames\n",
    "df_alpaca_MC = pd.concat([SPY,AGG], axis = 1, keys = [\"SPY\", \"AGG\"])"
   ]
  },
  {
   "cell_type": "code",
   "execution_count": 69,
   "metadata": {},
   "outputs": [
    {
     "data": {
      "text/html": [
       "<div>\n",
       "<style scoped>\n",
       "    .dataframe tbody tr th:only-of-type {\n",
       "        vertical-align: middle;\n",
       "    }\n",
       "\n",
       "    .dataframe tbody tr th {\n",
       "        vertical-align: top;\n",
       "    }\n",
       "\n",
       "    .dataframe thead tr th {\n",
       "        text-align: left;\n",
       "    }\n",
       "\n",
       "    .dataframe thead tr:last-of-type th {\n",
       "        text-align: right;\n",
       "    }\n",
       "</style>\n",
       "<table border=\"1\" class=\"dataframe\">\n",
       "  <thead>\n",
       "    <tr>\n",
       "      <th></th>\n",
       "      <th colspan=\"7\" halign=\"left\">SPY</th>\n",
       "      <th colspan=\"7\" halign=\"left\">AGG</th>\n",
       "    </tr>\n",
       "    <tr>\n",
       "      <th></th>\n",
       "      <th>open</th>\n",
       "      <th>high</th>\n",
       "      <th>low</th>\n",
       "      <th>close</th>\n",
       "      <th>volume</th>\n",
       "      <th>trade_count</th>\n",
       "      <th>vwap</th>\n",
       "      <th>open</th>\n",
       "      <th>high</th>\n",
       "      <th>low</th>\n",
       "      <th>close</th>\n",
       "      <th>volume</th>\n",
       "      <th>trade_count</th>\n",
       "      <th>vwap</th>\n",
       "    </tr>\n",
       "    <tr>\n",
       "      <th>timestamp</th>\n",
       "      <th></th>\n",
       "      <th></th>\n",
       "      <th></th>\n",
       "      <th></th>\n",
       "      <th></th>\n",
       "      <th></th>\n",
       "      <th></th>\n",
       "      <th></th>\n",
       "      <th></th>\n",
       "      <th></th>\n",
       "      <th></th>\n",
       "      <th></th>\n",
       "      <th></th>\n",
       "      <th></th>\n",
       "    </tr>\n",
       "  </thead>\n",
       "  <tbody>\n",
       "    <tr>\n",
       "      <th>2019-07-22 04:00:00+00:00</th>\n",
       "      <td>297.61</td>\n",
       "      <td>298.50</td>\n",
       "      <td>297.04</td>\n",
       "      <td>297.90</td>\n",
       "      <td>45137404</td>\n",
       "      <td>186383</td>\n",
       "      <td>297.748117</td>\n",
       "      <td>111.41</td>\n",
       "      <td>111.41</td>\n",
       "      <td>111.3000</td>\n",
       "      <td>111.31</td>\n",
       "      <td>2855073</td>\n",
       "      <td>7937</td>\n",
       "      <td>111.344721</td>\n",
       "    </tr>\n",
       "    <tr>\n",
       "      <th>2019-07-23 04:00:00+00:00</th>\n",
       "      <td>299.15</td>\n",
       "      <td>300.03</td>\n",
       "      <td>298.22</td>\n",
       "      <td>300.03</td>\n",
       "      <td>44935473</td>\n",
       "      <td>208847</td>\n",
       "      <td>299.177015</td>\n",
       "      <td>111.27</td>\n",
       "      <td>111.32</td>\n",
       "      <td>111.1600</td>\n",
       "      <td>111.20</td>\n",
       "      <td>2659305</td>\n",
       "      <td>10894</td>\n",
       "      <td>111.219201</td>\n",
       "    </tr>\n",
       "    <tr>\n",
       "      <th>2019-07-24 04:00:00+00:00</th>\n",
       "      <td>299.16</td>\n",
       "      <td>301.44</td>\n",
       "      <td>299.09</td>\n",
       "      <td>301.44</td>\n",
       "      <td>47738870</td>\n",
       "      <td>204882</td>\n",
       "      <td>300.570907</td>\n",
       "      <td>111.33</td>\n",
       "      <td>111.41</td>\n",
       "      <td>111.2950</td>\n",
       "      <td>111.36</td>\n",
       "      <td>2783461</td>\n",
       "      <td>12750</td>\n",
       "      <td>111.337833</td>\n",
       "    </tr>\n",
       "    <tr>\n",
       "      <th>2019-07-25 04:00:00+00:00</th>\n",
       "      <td>300.97</td>\n",
       "      <td>301.00</td>\n",
       "      <td>299.11</td>\n",
       "      <td>300.00</td>\n",
       "      <td>55864213</td>\n",
       "      <td>266901</td>\n",
       "      <td>300.079179</td>\n",
       "      <td>111.33</td>\n",
       "      <td>111.33</td>\n",
       "      <td>111.0474</td>\n",
       "      <td>111.19</td>\n",
       "      <td>2977486</td>\n",
       "      <td>11325</td>\n",
       "      <td>111.190464</td>\n",
       "    </tr>\n",
       "    <tr>\n",
       "      <th>2019-07-26 04:00:00+00:00</th>\n",
       "      <td>300.77</td>\n",
       "      <td>302.23</td>\n",
       "      <td>300.62</td>\n",
       "      <td>302.01</td>\n",
       "      <td>45430077</td>\n",
       "      <td>195123</td>\n",
       "      <td>301.590773</td>\n",
       "      <td>111.32</td>\n",
       "      <td>111.32</td>\n",
       "      <td>111.1400</td>\n",
       "      <td>111.21</td>\n",
       "      <td>4669863</td>\n",
       "      <td>11477</td>\n",
       "      <td>111.195450</td>\n",
       "    </tr>\n",
       "  </tbody>\n",
       "</table>\n",
       "</div>"
      ],
      "text/plain": [
       "                              SPY                                    \\\n",
       "                             open    high     low   close    volume   \n",
       "timestamp                                                             \n",
       "2019-07-22 04:00:00+00:00  297.61  298.50  297.04  297.90  45137404   \n",
       "2019-07-23 04:00:00+00:00  299.15  300.03  298.22  300.03  44935473   \n",
       "2019-07-24 04:00:00+00:00  299.16  301.44  299.09  301.44  47738870   \n",
       "2019-07-25 04:00:00+00:00  300.97  301.00  299.11  300.00  55864213   \n",
       "2019-07-26 04:00:00+00:00  300.77  302.23  300.62  302.01  45430077   \n",
       "\n",
       "                                                      AGG                    \\\n",
       "                          trade_count        vwap    open    high       low   \n",
       "timestamp                                                                     \n",
       "2019-07-22 04:00:00+00:00      186383  297.748117  111.41  111.41  111.3000   \n",
       "2019-07-23 04:00:00+00:00      208847  299.177015  111.27  111.32  111.1600   \n",
       "2019-07-24 04:00:00+00:00      204882  300.570907  111.33  111.41  111.2950   \n",
       "2019-07-25 04:00:00+00:00      266901  300.079179  111.33  111.33  111.0474   \n",
       "2019-07-26 04:00:00+00:00      195123  301.590773  111.32  111.32  111.1400   \n",
       "\n",
       "                                                                    \n",
       "                            close   volume trade_count        vwap  \n",
       "timestamp                                                           \n",
       "2019-07-22 04:00:00+00:00  111.31  2855073        7937  111.344721  \n",
       "2019-07-23 04:00:00+00:00  111.20  2659305       10894  111.219201  \n",
       "2019-07-24 04:00:00+00:00  111.36  2783461       12750  111.337833  \n",
       "2019-07-25 04:00:00+00:00  111.19  2977486       11325  111.190464  \n",
       "2019-07-26 04:00:00+00:00  111.21  4669863       11477  111.195450  "
      ]
     },
     "metadata": {},
     "output_type": "display_data"
    },
    {
     "data": {
      "text/html": [
       "<div>\n",
       "<style scoped>\n",
       "    .dataframe tbody tr th:only-of-type {\n",
       "        vertical-align: middle;\n",
       "    }\n",
       "\n",
       "    .dataframe tbody tr th {\n",
       "        vertical-align: top;\n",
       "    }\n",
       "\n",
       "    .dataframe thead tr th {\n",
       "        text-align: left;\n",
       "    }\n",
       "\n",
       "    .dataframe thead tr:last-of-type th {\n",
       "        text-align: right;\n",
       "    }\n",
       "</style>\n",
       "<table border=\"1\" class=\"dataframe\">\n",
       "  <thead>\n",
       "    <tr>\n",
       "      <th></th>\n",
       "      <th colspan=\"7\" halign=\"left\">SPY</th>\n",
       "      <th colspan=\"7\" halign=\"left\">AGG</th>\n",
       "    </tr>\n",
       "    <tr>\n",
       "      <th></th>\n",
       "      <th>open</th>\n",
       "      <th>high</th>\n",
       "      <th>low</th>\n",
       "      <th>close</th>\n",
       "      <th>volume</th>\n",
       "      <th>trade_count</th>\n",
       "      <th>vwap</th>\n",
       "      <th>open</th>\n",
       "      <th>high</th>\n",
       "      <th>low</th>\n",
       "      <th>close</th>\n",
       "      <th>volume</th>\n",
       "      <th>trade_count</th>\n",
       "      <th>vwap</th>\n",
       "    </tr>\n",
       "    <tr>\n",
       "      <th>timestamp</th>\n",
       "      <th></th>\n",
       "      <th></th>\n",
       "      <th></th>\n",
       "      <th></th>\n",
       "      <th></th>\n",
       "      <th></th>\n",
       "      <th></th>\n",
       "      <th></th>\n",
       "      <th></th>\n",
       "      <th></th>\n",
       "      <th></th>\n",
       "      <th></th>\n",
       "      <th></th>\n",
       "      <th></th>\n",
       "    </tr>\n",
       "  </thead>\n",
       "  <tbody>\n",
       "    <tr>\n",
       "      <th>2022-07-14 04:00:00+00:00</th>\n",
       "      <td>373.99</td>\n",
       "      <td>379.0498</td>\n",
       "      <td>371.04</td>\n",
       "      <td>377.91</td>\n",
       "      <td>89349688</td>\n",
       "      <td>637416</td>\n",
       "      <td>375.589384</td>\n",
       "      <td>101.51</td>\n",
       "      <td>101.98</td>\n",
       "      <td>101.3300</td>\n",
       "      <td>101.85</td>\n",
       "      <td>6224496</td>\n",
       "      <td>24722</td>\n",
       "      <td>101.747120</td>\n",
       "    </tr>\n",
       "    <tr>\n",
       "      <th>2022-07-15 04:00:00+00:00</th>\n",
       "      <td>382.62</td>\n",
       "      <td>385.2500</td>\n",
       "      <td>380.54</td>\n",
       "      <td>385.13</td>\n",
       "      <td>79318992</td>\n",
       "      <td>488124</td>\n",
       "      <td>383.334989</td>\n",
       "      <td>101.94</td>\n",
       "      <td>102.35</td>\n",
       "      <td>101.9000</td>\n",
       "      <td>102.25</td>\n",
       "      <td>8440151</td>\n",
       "      <td>27300</td>\n",
       "      <td>102.214854</td>\n",
       "    </tr>\n",
       "    <tr>\n",
       "      <th>2022-07-18 04:00:00+00:00</th>\n",
       "      <td>388.27</td>\n",
       "      <td>389.0900</td>\n",
       "      <td>380.66</td>\n",
       "      <td>381.95</td>\n",
       "      <td>62903915</td>\n",
       "      <td>489558</td>\n",
       "      <td>385.087984</td>\n",
       "      <td>102.00</td>\n",
       "      <td>102.03</td>\n",
       "      <td>101.7200</td>\n",
       "      <td>101.92</td>\n",
       "      <td>4949050</td>\n",
       "      <td>18802</td>\n",
       "      <td>101.892830</td>\n",
       "    </tr>\n",
       "    <tr>\n",
       "      <th>2022-07-19 04:00:00+00:00</th>\n",
       "      <td>386.17</td>\n",
       "      <td>392.8700</td>\n",
       "      <td>385.40</td>\n",
       "      <td>392.27</td>\n",
       "      <td>78242523</td>\n",
       "      <td>533601</td>\n",
       "      <td>389.362273</td>\n",
       "      <td>101.95</td>\n",
       "      <td>101.99</td>\n",
       "      <td>101.6615</td>\n",
       "      <td>101.78</td>\n",
       "      <td>4240277</td>\n",
       "      <td>18210</td>\n",
       "      <td>101.821971</td>\n",
       "    </tr>\n",
       "    <tr>\n",
       "      <th>2022-07-20 04:00:00+00:00</th>\n",
       "      <td>392.50</td>\n",
       "      <td>396.2600</td>\n",
       "      <td>391.03</td>\n",
       "      <td>394.77</td>\n",
       "      <td>70078151</td>\n",
       "      <td>525951</td>\n",
       "      <td>394.158894</td>\n",
       "      <td>102.16</td>\n",
       "      <td>102.17</td>\n",
       "      <td>101.6650</td>\n",
       "      <td>101.71</td>\n",
       "      <td>6109282</td>\n",
       "      <td>17836</td>\n",
       "      <td>101.767981</td>\n",
       "    </tr>\n",
       "  </tbody>\n",
       "</table>\n",
       "</div>"
      ],
      "text/plain": [
       "                              SPY                                      \\\n",
       "                             open      high     low   close    volume   \n",
       "timestamp                                                               \n",
       "2022-07-14 04:00:00+00:00  373.99  379.0498  371.04  377.91  89349688   \n",
       "2022-07-15 04:00:00+00:00  382.62  385.2500  380.54  385.13  79318992   \n",
       "2022-07-18 04:00:00+00:00  388.27  389.0900  380.66  381.95  62903915   \n",
       "2022-07-19 04:00:00+00:00  386.17  392.8700  385.40  392.27  78242523   \n",
       "2022-07-20 04:00:00+00:00  392.50  396.2600  391.03  394.77  70078151   \n",
       "\n",
       "                                                      AGG                    \\\n",
       "                          trade_count        vwap    open    high       low   \n",
       "timestamp                                                                     \n",
       "2022-07-14 04:00:00+00:00      637416  375.589384  101.51  101.98  101.3300   \n",
       "2022-07-15 04:00:00+00:00      488124  383.334989  101.94  102.35  101.9000   \n",
       "2022-07-18 04:00:00+00:00      489558  385.087984  102.00  102.03  101.7200   \n",
       "2022-07-19 04:00:00+00:00      533601  389.362273  101.95  101.99  101.6615   \n",
       "2022-07-20 04:00:00+00:00      525951  394.158894  102.16  102.17  101.6650   \n",
       "\n",
       "                                                                    \n",
       "                            close   volume trade_count        vwap  \n",
       "timestamp                                                           \n",
       "2022-07-14 04:00:00+00:00  101.85  6224496       24722  101.747120  \n",
       "2022-07-15 04:00:00+00:00  102.25  8440151       27300  102.214854  \n",
       "2022-07-18 04:00:00+00:00  101.92  4949050       18802  101.892830  \n",
       "2022-07-19 04:00:00+00:00  101.78  4240277       18210  101.821971  \n",
       "2022-07-20 04:00:00+00:00  101.71  6109282       17836  101.767981  "
      ]
     },
     "metadata": {},
     "output_type": "display_data"
    }
   ],
   "source": [
    "# check the first and last five rows\n",
    "display(df_alpaca_MC.head())\n",
    "display(df_alpaca_MC.tail())"
   ]
  },
  {
   "cell_type": "markdown",
   "metadata": {},
   "source": [
    "#### Step 2: Run a Monte Carlo simulation of 500 samples and 30 years for the 60/40 portfolio, and then plot the results."
   ]
  },
  {
   "cell_type": "code",
   "execution_count": 70,
   "metadata": {},
   "outputs": [],
   "source": [
    "# Configure the Monte Carlo simulation to forecast 30 years cumulative returns\n",
    "# The weights should be split 40% to AGG and 60% to SPY.\n",
    "# Run 500 samples.\n",
    "# YOUR CODE HERE\n",
    "\n",
    "# Review the simulation input data\n",
    "# YOUR CODE HERE\n",
    "# code will be listed in the next cell to ensure answer_neatness"
   ]
  },
  {
   "cell_type": "code",
   "execution_count": 71,
   "metadata": {},
   "outputs": [],
   "source": [
    "# Configure the Monte Carlo simulation to forecast 30 years cumulative returns\n",
    "MC_thirty_years = MCSimulation(\n",
    "    portfolio_data = df_alpaca_MC,\n",
    "    weights = [.60,.40],\n",
    "    num_simulation = 500,\n",
    "    num_trading_days = 252*30\n",
    ")"
   ]
  },
  {
   "cell_type": "code",
   "execution_count": 72,
   "metadata": {},
   "outputs": [
    {
     "data": {
      "text/html": [
       "<div>\n",
       "<style scoped>\n",
       "    .dataframe tbody tr th:only-of-type {\n",
       "        vertical-align: middle;\n",
       "    }\n",
       "\n",
       "    .dataframe tbody tr th {\n",
       "        vertical-align: top;\n",
       "    }\n",
       "\n",
       "    .dataframe thead tr th {\n",
       "        text-align: left;\n",
       "    }\n",
       "\n",
       "    .dataframe thead tr:last-of-type th {\n",
       "        text-align: right;\n",
       "    }\n",
       "</style>\n",
       "<table border=\"1\" class=\"dataframe\">\n",
       "  <thead>\n",
       "    <tr>\n",
       "      <th></th>\n",
       "      <th colspan=\"8\" halign=\"left\">SPY</th>\n",
       "      <th colspan=\"8\" halign=\"left\">AGG</th>\n",
       "    </tr>\n",
       "    <tr>\n",
       "      <th></th>\n",
       "      <th>open</th>\n",
       "      <th>high</th>\n",
       "      <th>low</th>\n",
       "      <th>close</th>\n",
       "      <th>volume</th>\n",
       "      <th>trade_count</th>\n",
       "      <th>vwap</th>\n",
       "      <th>daily_return</th>\n",
       "      <th>open</th>\n",
       "      <th>high</th>\n",
       "      <th>low</th>\n",
       "      <th>close</th>\n",
       "      <th>volume</th>\n",
       "      <th>trade_count</th>\n",
       "      <th>vwap</th>\n",
       "      <th>daily_return</th>\n",
       "    </tr>\n",
       "    <tr>\n",
       "      <th>timestamp</th>\n",
       "      <th></th>\n",
       "      <th></th>\n",
       "      <th></th>\n",
       "      <th></th>\n",
       "      <th></th>\n",
       "      <th></th>\n",
       "      <th></th>\n",
       "      <th></th>\n",
       "      <th></th>\n",
       "      <th></th>\n",
       "      <th></th>\n",
       "      <th></th>\n",
       "      <th></th>\n",
       "      <th></th>\n",
       "      <th></th>\n",
       "      <th></th>\n",
       "    </tr>\n",
       "  </thead>\n",
       "  <tbody>\n",
       "    <tr>\n",
       "      <th>2019-07-22 04:00:00+00:00</th>\n",
       "      <td>297.61</td>\n",
       "      <td>298.50</td>\n",
       "      <td>297.04</td>\n",
       "      <td>297.90</td>\n",
       "      <td>45137404</td>\n",
       "      <td>186383</td>\n",
       "      <td>297.748117</td>\n",
       "      <td>NaN</td>\n",
       "      <td>111.41</td>\n",
       "      <td>111.41</td>\n",
       "      <td>111.3000</td>\n",
       "      <td>111.31</td>\n",
       "      <td>2855073</td>\n",
       "      <td>7937</td>\n",
       "      <td>111.344721</td>\n",
       "      <td>NaN</td>\n",
       "    </tr>\n",
       "    <tr>\n",
       "      <th>2019-07-23 04:00:00+00:00</th>\n",
       "      <td>299.15</td>\n",
       "      <td>300.03</td>\n",
       "      <td>298.22</td>\n",
       "      <td>300.03</td>\n",
       "      <td>44935473</td>\n",
       "      <td>208847</td>\n",
       "      <td>299.177015</td>\n",
       "      <td>0.007150</td>\n",
       "      <td>111.27</td>\n",
       "      <td>111.32</td>\n",
       "      <td>111.1600</td>\n",
       "      <td>111.20</td>\n",
       "      <td>2659305</td>\n",
       "      <td>10894</td>\n",
       "      <td>111.219201</td>\n",
       "      <td>-0.000988</td>\n",
       "    </tr>\n",
       "    <tr>\n",
       "      <th>2019-07-24 04:00:00+00:00</th>\n",
       "      <td>299.16</td>\n",
       "      <td>301.44</td>\n",
       "      <td>299.09</td>\n",
       "      <td>301.44</td>\n",
       "      <td>47738870</td>\n",
       "      <td>204882</td>\n",
       "      <td>300.570907</td>\n",
       "      <td>0.004700</td>\n",
       "      <td>111.33</td>\n",
       "      <td>111.41</td>\n",
       "      <td>111.2950</td>\n",
       "      <td>111.36</td>\n",
       "      <td>2783461</td>\n",
       "      <td>12750</td>\n",
       "      <td>111.337833</td>\n",
       "      <td>0.001439</td>\n",
       "    </tr>\n",
       "    <tr>\n",
       "      <th>2019-07-25 04:00:00+00:00</th>\n",
       "      <td>300.97</td>\n",
       "      <td>301.00</td>\n",
       "      <td>299.11</td>\n",
       "      <td>300.00</td>\n",
       "      <td>55864213</td>\n",
       "      <td>266901</td>\n",
       "      <td>300.079179</td>\n",
       "      <td>-0.004777</td>\n",
       "      <td>111.33</td>\n",
       "      <td>111.33</td>\n",
       "      <td>111.0474</td>\n",
       "      <td>111.19</td>\n",
       "      <td>2977486</td>\n",
       "      <td>11325</td>\n",
       "      <td>111.190464</td>\n",
       "      <td>-0.001527</td>\n",
       "    </tr>\n",
       "    <tr>\n",
       "      <th>2019-07-26 04:00:00+00:00</th>\n",
       "      <td>300.77</td>\n",
       "      <td>302.23</td>\n",
       "      <td>300.62</td>\n",
       "      <td>302.01</td>\n",
       "      <td>45430077</td>\n",
       "      <td>195123</td>\n",
       "      <td>301.590773</td>\n",
       "      <td>0.006700</td>\n",
       "      <td>111.32</td>\n",
       "      <td>111.32</td>\n",
       "      <td>111.1400</td>\n",
       "      <td>111.21</td>\n",
       "      <td>4669863</td>\n",
       "      <td>11477</td>\n",
       "      <td>111.195450</td>\n",
       "      <td>0.000180</td>\n",
       "    </tr>\n",
       "  </tbody>\n",
       "</table>\n",
       "</div>"
      ],
      "text/plain": [
       "                              SPY                                    \\\n",
       "                             open    high     low   close    volume   \n",
       "timestamp                                                             \n",
       "2019-07-22 04:00:00+00:00  297.61  298.50  297.04  297.90  45137404   \n",
       "2019-07-23 04:00:00+00:00  299.15  300.03  298.22  300.03  44935473   \n",
       "2019-07-24 04:00:00+00:00  299.16  301.44  299.09  301.44  47738870   \n",
       "2019-07-25 04:00:00+00:00  300.97  301.00  299.11  300.00  55864213   \n",
       "2019-07-26 04:00:00+00:00  300.77  302.23  300.62  302.01  45430077   \n",
       "\n",
       "                                                                   AGG  \\\n",
       "                          trade_count        vwap daily_return    open   \n",
       "timestamp                                                                \n",
       "2019-07-22 04:00:00+00:00      186383  297.748117          NaN  111.41   \n",
       "2019-07-23 04:00:00+00:00      208847  299.177015     0.007150  111.27   \n",
       "2019-07-24 04:00:00+00:00      204882  300.570907     0.004700  111.33   \n",
       "2019-07-25 04:00:00+00:00      266901  300.079179    -0.004777  111.33   \n",
       "2019-07-26 04:00:00+00:00      195123  301.590773     0.006700  111.32   \n",
       "\n",
       "                                                                          \\\n",
       "                             high       low   close   volume trade_count   \n",
       "timestamp                                                                  \n",
       "2019-07-22 04:00:00+00:00  111.41  111.3000  111.31  2855073        7937   \n",
       "2019-07-23 04:00:00+00:00  111.32  111.1600  111.20  2659305       10894   \n",
       "2019-07-24 04:00:00+00:00  111.41  111.2950  111.36  2783461       12750   \n",
       "2019-07-25 04:00:00+00:00  111.33  111.0474  111.19  2977486       11325   \n",
       "2019-07-26 04:00:00+00:00  111.32  111.1400  111.21  4669863       11477   \n",
       "\n",
       "                                                    \n",
       "                                 vwap daily_return  \n",
       "timestamp                                           \n",
       "2019-07-22 04:00:00+00:00  111.344721          NaN  \n",
       "2019-07-23 04:00:00+00:00  111.219201    -0.000988  \n",
       "2019-07-24 04:00:00+00:00  111.337833     0.001439  \n",
       "2019-07-25 04:00:00+00:00  111.190464    -0.001527  \n",
       "2019-07-26 04:00:00+00:00  111.195450     0.000180  "
      ]
     },
     "execution_count": 72,
     "metadata": {},
     "output_type": "execute_result"
    }
   ],
   "source": [
    "# Review the simulation input data\n",
    "MC_thirty_years.portfolio_data.head()"
   ]
  },
  {
   "cell_type": "code",
   "execution_count": 73,
   "metadata": {},
   "outputs": [],
   "source": [
    "# Run the Monte Carlo simulation to forecast 30 years cumulative returns\n",
    "# YOUR CODE HERE\n",
    "# code will be listed in the next cell to ensure answer_neatness"
   ]
  },
  {
   "cell_type": "code",
   "execution_count": 76,
   "metadata": {},
   "outputs": [
    {
     "name": "stdout",
     "output_type": "stream",
     "text": [
      "Running Monte Carlo simulation number 0.\n",
      "Running Monte Carlo simulation number 10.\n",
      "Running Monte Carlo simulation number 20.\n",
      "Running Monte Carlo simulation number 30.\n",
      "Running Monte Carlo simulation number 40.\n",
      "Running Monte Carlo simulation number 50.\n",
      "Running Monte Carlo simulation number 60.\n",
      "Running Monte Carlo simulation number 70.\n",
      "Running Monte Carlo simulation number 80.\n",
      "Running Monte Carlo simulation number 90.\n",
      "Running Monte Carlo simulation number 100.\n",
      "Running Monte Carlo simulation number 110.\n",
      "Running Monte Carlo simulation number 120.\n",
      "Running Monte Carlo simulation number 130.\n",
      "Running Monte Carlo simulation number 140.\n",
      "Running Monte Carlo simulation number 150.\n",
      "Running Monte Carlo simulation number 160.\n",
      "Running Monte Carlo simulation number 170.\n",
      "Running Monte Carlo simulation number 180.\n",
      "Running Monte Carlo simulation number 190.\n",
      "Running Monte Carlo simulation number 200.\n",
      "Running Monte Carlo simulation number 210.\n",
      "Running Monte Carlo simulation number 220.\n",
      "Running Monte Carlo simulation number 230.\n",
      "Running Monte Carlo simulation number 240.\n",
      "Running Monte Carlo simulation number 250.\n",
      "Running Monte Carlo simulation number 260.\n",
      "Running Monte Carlo simulation number 270.\n",
      "Running Monte Carlo simulation number 280.\n",
      "Running Monte Carlo simulation number 290.\n",
      "Running Monte Carlo simulation number 300.\n",
      "Running Monte Carlo simulation number 310.\n",
      "Running Monte Carlo simulation number 320.\n",
      "Running Monte Carlo simulation number 330.\n",
      "Running Monte Carlo simulation number 340.\n",
      "Running Monte Carlo simulation number 350.\n",
      "Running Monte Carlo simulation number 360.\n",
      "Running Monte Carlo simulation number 370.\n",
      "Running Monte Carlo simulation number 380.\n",
      "Running Monte Carlo simulation number 390.\n",
      "Running Monte Carlo simulation number 400.\n",
      "Running Monte Carlo simulation number 410.\n",
      "Running Monte Carlo simulation number 420.\n",
      "Running Monte Carlo simulation number 430.\n",
      "Running Monte Carlo simulation number 440.\n",
      "Running Monte Carlo simulation number 450.\n",
      "Running Monte Carlo simulation number 460.\n",
      "Running Monte Carlo simulation number 470.\n",
      "Running Monte Carlo simulation number 480.\n",
      "Running Monte Carlo simulation number 490.\n"
     ]
    },
    {
     "data": {
      "text/html": [
       "<div>\n",
       "<style scoped>\n",
       "    .dataframe tbody tr th:only-of-type {\n",
       "        vertical-align: middle;\n",
       "    }\n",
       "\n",
       "    .dataframe tbody tr th {\n",
       "        vertical-align: top;\n",
       "    }\n",
       "\n",
       "    .dataframe thead th {\n",
       "        text-align: right;\n",
       "    }\n",
       "</style>\n",
       "<table border=\"1\" class=\"dataframe\">\n",
       "  <thead>\n",
       "    <tr style=\"text-align: right;\">\n",
       "      <th></th>\n",
       "      <th>0</th>\n",
       "      <th>1</th>\n",
       "      <th>2</th>\n",
       "      <th>3</th>\n",
       "      <th>4</th>\n",
       "      <th>5</th>\n",
       "      <th>6</th>\n",
       "      <th>7</th>\n",
       "      <th>8</th>\n",
       "      <th>9</th>\n",
       "      <th>...</th>\n",
       "      <th>490</th>\n",
       "      <th>491</th>\n",
       "      <th>492</th>\n",
       "      <th>493</th>\n",
       "      <th>494</th>\n",
       "      <th>495</th>\n",
       "      <th>496</th>\n",
       "      <th>497</th>\n",
       "      <th>498</th>\n",
       "      <th>499</th>\n",
       "    </tr>\n",
       "  </thead>\n",
       "  <tbody>\n",
       "    <tr>\n",
       "      <th>0</th>\n",
       "      <td>1.000000</td>\n",
       "      <td>1.000000</td>\n",
       "      <td>1.000000</td>\n",
       "      <td>1.000000</td>\n",
       "      <td>1.000000</td>\n",
       "      <td>1.000000</td>\n",
       "      <td>1.000000</td>\n",
       "      <td>1.000000</td>\n",
       "      <td>1.000000</td>\n",
       "      <td>1.000000</td>\n",
       "      <td>...</td>\n",
       "      <td>1.000000</td>\n",
       "      <td>1.000000</td>\n",
       "      <td>1.000000</td>\n",
       "      <td>1.000000</td>\n",
       "      <td>1.000000</td>\n",
       "      <td>1.000000</td>\n",
       "      <td>1.000000</td>\n",
       "      <td>1.000000</td>\n",
       "      <td>1.000000</td>\n",
       "      <td>1.000000</td>\n",
       "    </tr>\n",
       "    <tr>\n",
       "      <th>1</th>\n",
       "      <td>1.005191</td>\n",
       "      <td>0.992315</td>\n",
       "      <td>1.010564</td>\n",
       "      <td>1.002615</td>\n",
       "      <td>1.010870</td>\n",
       "      <td>0.995589</td>\n",
       "      <td>1.015541</td>\n",
       "      <td>0.990416</td>\n",
       "      <td>1.001006</td>\n",
       "      <td>0.997664</td>\n",
       "      <td>...</td>\n",
       "      <td>1.005205</td>\n",
       "      <td>1.003757</td>\n",
       "      <td>1.012616</td>\n",
       "      <td>1.015241</td>\n",
       "      <td>1.000386</td>\n",
       "      <td>0.996791</td>\n",
       "      <td>0.991465</td>\n",
       "      <td>0.982905</td>\n",
       "      <td>0.988894</td>\n",
       "      <td>1.006290</td>\n",
       "    </tr>\n",
       "    <tr>\n",
       "      <th>2</th>\n",
       "      <td>0.993465</td>\n",
       "      <td>0.993865</td>\n",
       "      <td>1.016123</td>\n",
       "      <td>1.008215</td>\n",
       "      <td>1.024140</td>\n",
       "      <td>1.003435</td>\n",
       "      <td>1.009875</td>\n",
       "      <td>0.983855</td>\n",
       "      <td>1.013657</td>\n",
       "      <td>1.002336</td>\n",
       "      <td>...</td>\n",
       "      <td>1.007471</td>\n",
       "      <td>0.999577</td>\n",
       "      <td>1.004479</td>\n",
       "      <td>1.013879</td>\n",
       "      <td>0.991334</td>\n",
       "      <td>0.980357</td>\n",
       "      <td>0.987159</td>\n",
       "      <td>0.981377</td>\n",
       "      <td>0.995742</td>\n",
       "      <td>1.001314</td>\n",
       "    </tr>\n",
       "    <tr>\n",
       "      <th>3</th>\n",
       "      <td>0.978575</td>\n",
       "      <td>0.985574</td>\n",
       "      <td>1.010812</td>\n",
       "      <td>1.007769</td>\n",
       "      <td>1.017422</td>\n",
       "      <td>0.997663</td>\n",
       "      <td>1.005783</td>\n",
       "      <td>0.973020</td>\n",
       "      <td>1.003661</td>\n",
       "      <td>1.003089</td>\n",
       "      <td>...</td>\n",
       "      <td>0.997855</td>\n",
       "      <td>0.994549</td>\n",
       "      <td>1.003089</td>\n",
       "      <td>1.010729</td>\n",
       "      <td>0.988005</td>\n",
       "      <td>0.994558</td>\n",
       "      <td>1.001080</td>\n",
       "      <td>0.985062</td>\n",
       "      <td>0.991102</td>\n",
       "      <td>1.002191</td>\n",
       "    </tr>\n",
       "    <tr>\n",
       "      <th>4</th>\n",
       "      <td>0.970506</td>\n",
       "      <td>0.964085</td>\n",
       "      <td>1.000453</td>\n",
       "      <td>1.002091</td>\n",
       "      <td>1.029908</td>\n",
       "      <td>0.996888</td>\n",
       "      <td>1.006135</td>\n",
       "      <td>0.985233</td>\n",
       "      <td>0.996399</td>\n",
       "      <td>0.991948</td>\n",
       "      <td>...</td>\n",
       "      <td>1.002527</td>\n",
       "      <td>0.985325</td>\n",
       "      <td>0.997668</td>\n",
       "      <td>1.006361</td>\n",
       "      <td>0.982413</td>\n",
       "      <td>0.994420</td>\n",
       "      <td>0.999600</td>\n",
       "      <td>0.991499</td>\n",
       "      <td>1.004801</td>\n",
       "      <td>0.997535</td>\n",
       "    </tr>\n",
       "    <tr>\n",
       "      <th>...</th>\n",
       "      <td>...</td>\n",
       "      <td>...</td>\n",
       "      <td>...</td>\n",
       "      <td>...</td>\n",
       "      <td>...</td>\n",
       "      <td>...</td>\n",
       "      <td>...</td>\n",
       "      <td>...</td>\n",
       "      <td>...</td>\n",
       "      <td>...</td>\n",
       "      <td>...</td>\n",
       "      <td>...</td>\n",
       "      <td>...</td>\n",
       "      <td>...</td>\n",
       "      <td>...</td>\n",
       "      <td>...</td>\n",
       "      <td>...</td>\n",
       "      <td>...</td>\n",
       "      <td>...</td>\n",
       "      <td>...</td>\n",
       "      <td>...</td>\n",
       "    </tr>\n",
       "    <tr>\n",
       "      <th>7556</th>\n",
       "      <td>5.301459</td>\n",
       "      <td>9.186641</td>\n",
       "      <td>1.773001</td>\n",
       "      <td>1.973038</td>\n",
       "      <td>6.543027</td>\n",
       "      <td>1.927632</td>\n",
       "      <td>4.473212</td>\n",
       "      <td>3.463716</td>\n",
       "      <td>8.718142</td>\n",
       "      <td>5.367083</td>\n",
       "      <td>...</td>\n",
       "      <td>1.999474</td>\n",
       "      <td>3.771142</td>\n",
       "      <td>10.928399</td>\n",
       "      <td>1.700770</td>\n",
       "      <td>20.044538</td>\n",
       "      <td>4.668166</td>\n",
       "      <td>13.206344</td>\n",
       "      <td>1.473544</td>\n",
       "      <td>1.929472</td>\n",
       "      <td>14.206770</td>\n",
       "    </tr>\n",
       "    <tr>\n",
       "      <th>7557</th>\n",
       "      <td>5.313951</td>\n",
       "      <td>9.137726</td>\n",
       "      <td>1.756561</td>\n",
       "      <td>1.950392</td>\n",
       "      <td>6.563284</td>\n",
       "      <td>1.945820</td>\n",
       "      <td>4.415864</td>\n",
       "      <td>3.389539</td>\n",
       "      <td>8.683673</td>\n",
       "      <td>5.391026</td>\n",
       "      <td>...</td>\n",
       "      <td>2.004568</td>\n",
       "      <td>3.771888</td>\n",
       "      <td>10.967106</td>\n",
       "      <td>1.694506</td>\n",
       "      <td>20.124790</td>\n",
       "      <td>4.695141</td>\n",
       "      <td>13.364685</td>\n",
       "      <td>1.439808</td>\n",
       "      <td>1.936064</td>\n",
       "      <td>14.160931</td>\n",
       "    </tr>\n",
       "    <tr>\n",
       "      <th>7558</th>\n",
       "      <td>5.300213</td>\n",
       "      <td>9.195430</td>\n",
       "      <td>1.758643</td>\n",
       "      <td>1.958674</td>\n",
       "      <td>6.609238</td>\n",
       "      <td>1.953252</td>\n",
       "      <td>4.443899</td>\n",
       "      <td>3.370072</td>\n",
       "      <td>8.685863</td>\n",
       "      <td>5.359774</td>\n",
       "      <td>...</td>\n",
       "      <td>2.012181</td>\n",
       "      <td>3.767090</td>\n",
       "      <td>11.100375</td>\n",
       "      <td>1.687070</td>\n",
       "      <td>20.327730</td>\n",
       "      <td>4.729096</td>\n",
       "      <td>13.313887</td>\n",
       "      <td>1.427848</td>\n",
       "      <td>1.910863</td>\n",
       "      <td>14.038840</td>\n",
       "    </tr>\n",
       "    <tr>\n",
       "      <th>7559</th>\n",
       "      <td>5.312971</td>\n",
       "      <td>9.208643</td>\n",
       "      <td>1.738302</td>\n",
       "      <td>1.943318</td>\n",
       "      <td>6.650527</td>\n",
       "      <td>1.965904</td>\n",
       "      <td>4.422531</td>\n",
       "      <td>3.348369</td>\n",
       "      <td>8.706689</td>\n",
       "      <td>5.352726</td>\n",
       "      <td>...</td>\n",
       "      <td>2.044906</td>\n",
       "      <td>3.814557</td>\n",
       "      <td>11.097835</td>\n",
       "      <td>1.679955</td>\n",
       "      <td>20.290635</td>\n",
       "      <td>4.716269</td>\n",
       "      <td>13.222122</td>\n",
       "      <td>1.437766</td>\n",
       "      <td>1.901640</td>\n",
       "      <td>13.975188</td>\n",
       "    </tr>\n",
       "    <tr>\n",
       "      <th>7560</th>\n",
       "      <td>5.355023</td>\n",
       "      <td>9.166621</td>\n",
       "      <td>1.737186</td>\n",
       "      <td>1.972073</td>\n",
       "      <td>6.735650</td>\n",
       "      <td>1.991836</td>\n",
       "      <td>4.390187</td>\n",
       "      <td>3.323723</td>\n",
       "      <td>8.689300</td>\n",
       "      <td>5.341609</td>\n",
       "      <td>...</td>\n",
       "      <td>2.059431</td>\n",
       "      <td>3.795020</td>\n",
       "      <td>11.180810</td>\n",
       "      <td>1.684959</td>\n",
       "      <td>20.366491</td>\n",
       "      <td>4.707051</td>\n",
       "      <td>13.252110</td>\n",
       "      <td>1.422576</td>\n",
       "      <td>1.924118</td>\n",
       "      <td>13.800293</td>\n",
       "    </tr>\n",
       "  </tbody>\n",
       "</table>\n",
       "<p>7561 rows × 500 columns</p>\n",
       "</div>"
      ],
      "text/plain": [
       "           0         1         2         3         4         5         6    \\\n",
       "0     1.000000  1.000000  1.000000  1.000000  1.000000  1.000000  1.000000   \n",
       "1     1.005191  0.992315  1.010564  1.002615  1.010870  0.995589  1.015541   \n",
       "2     0.993465  0.993865  1.016123  1.008215  1.024140  1.003435  1.009875   \n",
       "3     0.978575  0.985574  1.010812  1.007769  1.017422  0.997663  1.005783   \n",
       "4     0.970506  0.964085  1.000453  1.002091  1.029908  0.996888  1.006135   \n",
       "...        ...       ...       ...       ...       ...       ...       ...   \n",
       "7556  5.301459  9.186641  1.773001  1.973038  6.543027  1.927632  4.473212   \n",
       "7557  5.313951  9.137726  1.756561  1.950392  6.563284  1.945820  4.415864   \n",
       "7558  5.300213  9.195430  1.758643  1.958674  6.609238  1.953252  4.443899   \n",
       "7559  5.312971  9.208643  1.738302  1.943318  6.650527  1.965904  4.422531   \n",
       "7560  5.355023  9.166621  1.737186  1.972073  6.735650  1.991836  4.390187   \n",
       "\n",
       "           7         8         9    ...       490       491        492  \\\n",
       "0     1.000000  1.000000  1.000000  ...  1.000000  1.000000   1.000000   \n",
       "1     0.990416  1.001006  0.997664  ...  1.005205  1.003757   1.012616   \n",
       "2     0.983855  1.013657  1.002336  ...  1.007471  0.999577   1.004479   \n",
       "3     0.973020  1.003661  1.003089  ...  0.997855  0.994549   1.003089   \n",
       "4     0.985233  0.996399  0.991948  ...  1.002527  0.985325   0.997668   \n",
       "...        ...       ...       ...  ...       ...       ...        ...   \n",
       "7556  3.463716  8.718142  5.367083  ...  1.999474  3.771142  10.928399   \n",
       "7557  3.389539  8.683673  5.391026  ...  2.004568  3.771888  10.967106   \n",
       "7558  3.370072  8.685863  5.359774  ...  2.012181  3.767090  11.100375   \n",
       "7559  3.348369  8.706689  5.352726  ...  2.044906  3.814557  11.097835   \n",
       "7560  3.323723  8.689300  5.341609  ...  2.059431  3.795020  11.180810   \n",
       "\n",
       "           493        494       495        496       497       498        499  \n",
       "0     1.000000   1.000000  1.000000   1.000000  1.000000  1.000000   1.000000  \n",
       "1     1.015241   1.000386  0.996791   0.991465  0.982905  0.988894   1.006290  \n",
       "2     1.013879   0.991334  0.980357   0.987159  0.981377  0.995742   1.001314  \n",
       "3     1.010729   0.988005  0.994558   1.001080  0.985062  0.991102   1.002191  \n",
       "4     1.006361   0.982413  0.994420   0.999600  0.991499  1.004801   0.997535  \n",
       "...        ...        ...       ...        ...       ...       ...        ...  \n",
       "7556  1.700770  20.044538  4.668166  13.206344  1.473544  1.929472  14.206770  \n",
       "7557  1.694506  20.124790  4.695141  13.364685  1.439808  1.936064  14.160931  \n",
       "7558  1.687070  20.327730  4.729096  13.313887  1.427848  1.910863  14.038840  \n",
       "7559  1.679955  20.290635  4.716269  13.222122  1.437766  1.901640  13.975188  \n",
       "7560  1.684959  20.366491  4.707051  13.252110  1.422576  1.924118  13.800293  \n",
       "\n",
       "[7561 rows x 500 columns]"
      ]
     },
     "execution_count": 76,
     "metadata": {},
     "output_type": "execute_result"
    }
   ],
   "source": [
    "# Run the Monte Carlo simulation to forecast 30 years\n",
    "MC_thirty_years.calc_cumulative_return()"
   ]
  },
  {
   "cell_type": "code",
   "execution_count": 77,
   "metadata": {},
   "outputs": [],
   "source": [
    "# Visualize the 30-year Monte Carlo simulation by creating an\n",
    "# overlay line plot\n",
    "# YOUR CODE HERE\n",
    "# code will be listed in the next cell to ensure answer_neatness"
   ]
  },
  {
   "cell_type": "code",
   "execution_count": 78,
   "metadata": {},
   "outputs": [
    {
     "data": {
      "image/png": "[encoded data removed]",
      "text/plain": [
       "<Figure size 432x288 with 1 Axes>"
      ]
     },
     "metadata": {
      "needs_background": "light"
     },
     "output_type": "display_data"
    }
   ],
   "source": [
    "#Plot an overlay line plot\n",
    "MC_sim_line_plot = MC_thirty_years.plot_simulation()"
   ]
  },
  {
   "cell_type": "code",
   "execution_count": 79,
   "metadata": {},
   "outputs": [],
   "source": [
    "# Save the plot for future use\n",
    "MC_sim_line_plot.get_figure().savefig(\"MC_thirty_years_sim_plot.png\", bbox_inches=\"tight\")"
   ]
  },
  {
   "cell_type": "markdown",
   "metadata": {},
   "source": [
    "#### Step 3: Plot the probability distribution of the Monte Carlo simulation."
   ]
  },
  {
   "cell_type": "code",
   "execution_count": 80,
   "metadata": {},
   "outputs": [],
   "source": [
    "# Visualize the probability distribution of the 30-year Monte Carlo simulation \n",
    "# by plotting a histogram\n",
    "# YOUR CODE HERE\n",
    "# code will be listed in the next cell to ensure answer_neatness"
   ]
  },
  {
   "cell_type": "code",
   "execution_count": 81,
   "metadata": {},
   "outputs": [
    {
     "data": {
      "image/png": "[encoded data removed]",
      "text/plain": [
       "<Figure size 432x288 with 1 Axes>"
      ]
     },
     "metadata": {
      "needs_background": "light"
     },
     "output_type": "display_data"
    }
   ],
   "source": [
    "# Plot probability distribution and plot a histogram\n",
    "MC_sim_dist_plot = MC_thirty_years.plot_distribution()"
   ]
  },
  {
   "cell_type": "code",
   "execution_count": 82,
   "metadata": {},
   "outputs": [],
   "source": [
    "# Save the plot for future use\n",
    "MC_sim_dist_plot.get_figure().savefig('MC_thirty_years_dist_plot.png',bbox_inches='tight')"
   ]
  },
  {
   "cell_type": "markdown",
   "metadata": {},
   "source": [
    "#### Step 4: Generate the summary statistics for the Monte Carlo simulation."
   ]
  },
  {
   "cell_type": "code",
   "execution_count": 83,
   "metadata": {},
   "outputs": [],
   "source": [
    "# Generate summary statistics from the 30-year Monte Carlo simulation results\n",
    "# Save the results as a variable\n",
    "# YOUR CODE HERE\n",
    "\n",
    "\n",
    "# Review the 30-year Monte Carlo summary statistics\n",
    "# YOUR CODE HERE\n",
    "# code will be listed in the next cell to ensure answer_neatness"
   ]
  },
  {
   "cell_type": "code",
   "execution_count": 84,
   "metadata": {},
   "outputs": [],
   "source": [
    "# Generate summary statistics fro the Monte Carlo Simulation and save in a variable\n",
    "MC_summary_statistics = MC_thirty_years.summarize_cumulative_return()"
   ]
  },
  {
   "cell_type": "code",
   "execution_count": 85,
   "metadata": {},
   "outputs": [
    {
     "name": "stdout",
     "output_type": "stream",
     "text": [
      "count           500.000000\n",
      "mean              6.685993\n",
      "std               6.263955\n",
      "min               0.467905\n",
      "25%               2.722815\n",
      "50%               4.831645\n",
      "75%               8.543118\n",
      "max              63.500384\n",
      "95% CI Lower      0.988683\n",
      "95% CI Upper     23.618751\n",
      "Name: 7560, dtype: float64\n"
     ]
    }
   ],
   "source": [
    "# Review the summary statistics\n",
    "print(MC_summary_statistics)"
   ]
  },
  {
   "cell_type": "markdown",
   "metadata": {},
   "source": [
    "### Analyze the Retirement Portfolio Forecasts\n",
    "\n",
    "Using the current value of only the stock and bond portion of the member's portfolio and the summary statistics that you generated from the Monte Carlo simulation, answer the following question in your Jupyter notebook:\n",
    "\n",
    "-  What are the lower and upper bounds for the expected value of the portfolio with a 95% confidence interval?\n"
   ]
  },
  {
   "cell_type": "code",
   "execution_count": 86,
   "metadata": {},
   "outputs": [],
   "source": [
    "# Print the current balance of the stock and bond portion of the members portfolio\n",
    "# YOUR CODE HERE\n",
    "# code will be listed in the next cell to ensure answer_neatness"
   ]
  },
  {
   "cell_type": "code",
   "execution_count": 87,
   "metadata": {},
   "outputs": [
    {
     "name": "stdout",
     "output_type": "stream",
     "text": [
      "The current balance of the stock and bond portion of the members portfolio is: $62814.3\n"
     ]
    }
   ],
   "source": [
    "print(f\"The current balance of the stock and bond portion of the members portfolio is: ${total_stock_bonds}\")"
   ]
  },
  {
   "cell_type": "code",
   "execution_count": 88,
   "metadata": {},
   "outputs": [],
   "source": [
    "# Use the lower and upper `95%` confidence intervals to calculate the range of the possible outcomes for the current stock/bond portfolio\n",
    "#ci_lower_thirty_cumulative_return = # YOUR CODE HERE\n",
    "#ci_upper_thirty_cumulative_return = # YOUR CODE HERE\n",
    "\n",
    "# Print the result of your calculations\n",
    "# YOUR CODE HERE\n",
    "# code will be listed in the next cell to ensure answer_neatness"
   ]
  },
  {
   "cell_type": "code",
   "execution_count": 89,
   "metadata": {},
   "outputs": [
    {
     "name": "stdout",
     "output_type": "stream",
     "text": [
      "There is a 95% chance that an initial investment of $62814.3 in the portfolio over the next 30 years will end within in the range of $ 62103.44 and $ 1483595.33.\n"
     ]
    }
   ],
   "source": [
    "# Calculate the range of the possible outcomes for the cruuent stock/bonds portfolio\n",
    "ci_lower_thirty_cumulative_return = MC_summary_statistics[8] * total_stock_bonds\n",
    "ci_upper_thirty_cumulative_return = MC_summary_statistics[9] * total_stock_bonds\n",
    "\n",
    "print(f\"There is a 95% chance that an initial investment of ${total_stock_bonds} in the portfolio\"\n",
    "    f\" over the next 30 years will end within in the range of\"\n",
    "    f\" ${ci_lower_thirty_cumulative_return: .2f} and ${ci_upper_thirty_cumulative_return: .2f}.\")"
   ]
  },
  {
   "cell_type": "markdown",
   "metadata": {},
   "source": [
    "### Forecast Cumulative Returns in 10 Years\n",
    "\n",
    "The CTO of the credit union is impressed with your work on these planning tools but wonders if 30 years is a long time to wait until retirement. So, your next task is to adjust the retirement portfolio and run a new Monte Carlo simulation to find out if the changes will allow members to retire earlier.\n",
    "\n",
    "For this new Monte Carlo simulation, do the following: \n",
    "\n",
    "- Forecast the cumulative returns for 10 years from now. Because of the shortened investment horizon (30 years to 10 years), the portfolio needs to invest more heavily in the riskier asset&mdash;that is, stock&mdash;to help accumulate wealth for retirement. \n",
    "\n",
    "- Adjust the weights of the retirement portfolio so that the composition for the Monte Carlo simulation consists of 20% bonds and 80% stocks. \n",
    "\n",
    "- Run the simulation over 500 samples, and use the same data that the API call to Alpaca generated.\n",
    "\n",
    "- Based on the new Monte Carlo simulation, answer the following questions in your Jupyter notebook:\n",
    "\n",
    "    - Using the current value of only the stock and bond portion of the member's portfolio and the summary statistics that you generated from the new Monte Carlo simulation, what are the lower and upper bounds for the expected value of the portfolio (with the new weights) with a 95% confidence interval?\n",
    "\n",
    "    - Will weighting the portfolio more heavily toward stocks allow the credit union members to retire after only 10 years?\n"
   ]
  },
  {
   "cell_type": "code",
   "execution_count": 90,
   "metadata": {},
   "outputs": [],
   "source": [
    "# Configure a Monte Carlo simulation to forecast 10 years cumulative returns\n",
    "# The weights should be split 20% to AGG and 80% to SPY.\n",
    "# Run 500 samples.\n",
    "# YOUR CODE HERE\n",
    "\n",
    "# Review the simulation input data\n",
    "# YOUR CODE HERE\n",
    "# code will be listed in the next cell to ensure answer_neatness"
   ]
  },
  {
   "cell_type": "code",
   "execution_count": 91,
   "metadata": {},
   "outputs": [],
   "source": [
    "# Configure the new Monte Carlo simulation to forecast 10 years cumulative returns\n",
    "MC_ten_years = MCSimulation(\n",
    "    portfolio_data = df_alpaca_MC,\n",
    "    weights = [.80,.20],\n",
    "    num_simulation = 500,\n",
    "    num_trading_days = 252*10\n",
    ")"
   ]
  },
  {
   "cell_type": "code",
   "execution_count": 92,
   "metadata": {},
   "outputs": [
    {
     "data": {
      "text/html": [
       "<div>\n",
       "<style scoped>\n",
       "    .dataframe tbody tr th:only-of-type {\n",
       "        vertical-align: middle;\n",
       "    }\n",
       "\n",
       "    .dataframe tbody tr th {\n",
       "        vertical-align: top;\n",
       "    }\n",
       "\n",
       "    .dataframe thead tr th {\n",
       "        text-align: left;\n",
       "    }\n",
       "\n",
       "    .dataframe thead tr:last-of-type th {\n",
       "        text-align: right;\n",
       "    }\n",
       "</style>\n",
       "<table border=\"1\" class=\"dataframe\">\n",
       "  <thead>\n",
       "    <tr>\n",
       "      <th></th>\n",
       "      <th colspan=\"8\" halign=\"left\">SPY</th>\n",
       "      <th colspan=\"8\" halign=\"left\">AGG</th>\n",
       "    </tr>\n",
       "    <tr>\n",
       "      <th></th>\n",
       "      <th>open</th>\n",
       "      <th>high</th>\n",
       "      <th>low</th>\n",
       "      <th>close</th>\n",
       "      <th>volume</th>\n",
       "      <th>trade_count</th>\n",
       "      <th>vwap</th>\n",
       "      <th>daily_return</th>\n",
       "      <th>open</th>\n",
       "      <th>high</th>\n",
       "      <th>low</th>\n",
       "      <th>close</th>\n",
       "      <th>volume</th>\n",
       "      <th>trade_count</th>\n",
       "      <th>vwap</th>\n",
       "      <th>daily_return</th>\n",
       "    </tr>\n",
       "    <tr>\n",
       "      <th>timestamp</th>\n",
       "      <th></th>\n",
       "      <th></th>\n",
       "      <th></th>\n",
       "      <th></th>\n",
       "      <th></th>\n",
       "      <th></th>\n",
       "      <th></th>\n",
       "      <th></th>\n",
       "      <th></th>\n",
       "      <th></th>\n",
       "      <th></th>\n",
       "      <th></th>\n",
       "      <th></th>\n",
       "      <th></th>\n",
       "      <th></th>\n",
       "      <th></th>\n",
       "    </tr>\n",
       "  </thead>\n",
       "  <tbody>\n",
       "    <tr>\n",
       "      <th>2019-07-22 04:00:00+00:00</th>\n",
       "      <td>297.61</td>\n",
       "      <td>298.50</td>\n",
       "      <td>297.04</td>\n",
       "      <td>297.90</td>\n",
       "      <td>45137404</td>\n",
       "      <td>186383</td>\n",
       "      <td>297.748117</td>\n",
       "      <td>NaN</td>\n",
       "      <td>111.41</td>\n",
       "      <td>111.41</td>\n",
       "      <td>111.3000</td>\n",
       "      <td>111.31</td>\n",
       "      <td>2855073</td>\n",
       "      <td>7937</td>\n",
       "      <td>111.344721</td>\n",
       "      <td>NaN</td>\n",
       "    </tr>\n",
       "    <tr>\n",
       "      <th>2019-07-23 04:00:00+00:00</th>\n",
       "      <td>299.15</td>\n",
       "      <td>300.03</td>\n",
       "      <td>298.22</td>\n",
       "      <td>300.03</td>\n",
       "      <td>44935473</td>\n",
       "      <td>208847</td>\n",
       "      <td>299.177015</td>\n",
       "      <td>0.007150</td>\n",
       "      <td>111.27</td>\n",
       "      <td>111.32</td>\n",
       "      <td>111.1600</td>\n",
       "      <td>111.20</td>\n",
       "      <td>2659305</td>\n",
       "      <td>10894</td>\n",
       "      <td>111.219201</td>\n",
       "      <td>-0.000988</td>\n",
       "    </tr>\n",
       "    <tr>\n",
       "      <th>2019-07-24 04:00:00+00:00</th>\n",
       "      <td>299.16</td>\n",
       "      <td>301.44</td>\n",
       "      <td>299.09</td>\n",
       "      <td>301.44</td>\n",
       "      <td>47738870</td>\n",
       "      <td>204882</td>\n",
       "      <td>300.570907</td>\n",
       "      <td>0.004700</td>\n",
       "      <td>111.33</td>\n",
       "      <td>111.41</td>\n",
       "      <td>111.2950</td>\n",
       "      <td>111.36</td>\n",
       "      <td>2783461</td>\n",
       "      <td>12750</td>\n",
       "      <td>111.337833</td>\n",
       "      <td>0.001439</td>\n",
       "    </tr>\n",
       "    <tr>\n",
       "      <th>2019-07-25 04:00:00+00:00</th>\n",
       "      <td>300.97</td>\n",
       "      <td>301.00</td>\n",
       "      <td>299.11</td>\n",
       "      <td>300.00</td>\n",
       "      <td>55864213</td>\n",
       "      <td>266901</td>\n",
       "      <td>300.079179</td>\n",
       "      <td>-0.004777</td>\n",
       "      <td>111.33</td>\n",
       "      <td>111.33</td>\n",
       "      <td>111.0474</td>\n",
       "      <td>111.19</td>\n",
       "      <td>2977486</td>\n",
       "      <td>11325</td>\n",
       "      <td>111.190464</td>\n",
       "      <td>-0.001527</td>\n",
       "    </tr>\n",
       "    <tr>\n",
       "      <th>2019-07-26 04:00:00+00:00</th>\n",
       "      <td>300.77</td>\n",
       "      <td>302.23</td>\n",
       "      <td>300.62</td>\n",
       "      <td>302.01</td>\n",
       "      <td>45430077</td>\n",
       "      <td>195123</td>\n",
       "      <td>301.590773</td>\n",
       "      <td>0.006700</td>\n",
       "      <td>111.32</td>\n",
       "      <td>111.32</td>\n",
       "      <td>111.1400</td>\n",
       "      <td>111.21</td>\n",
       "      <td>4669863</td>\n",
       "      <td>11477</td>\n",
       "      <td>111.195450</td>\n",
       "      <td>0.000180</td>\n",
       "    </tr>\n",
       "  </tbody>\n",
       "</table>\n",
       "</div>"
      ],
      "text/plain": [
       "                              SPY                                    \\\n",
       "                             open    high     low   close    volume   \n",
       "timestamp                                                             \n",
       "2019-07-22 04:00:00+00:00  297.61  298.50  297.04  297.90  45137404   \n",
       "2019-07-23 04:00:00+00:00  299.15  300.03  298.22  300.03  44935473   \n",
       "2019-07-24 04:00:00+00:00  299.16  301.44  299.09  301.44  47738870   \n",
       "2019-07-25 04:00:00+00:00  300.97  301.00  299.11  300.00  55864213   \n",
       "2019-07-26 04:00:00+00:00  300.77  302.23  300.62  302.01  45430077   \n",
       "\n",
       "                                                                   AGG  \\\n",
       "                          trade_count        vwap daily_return    open   \n",
       "timestamp                                                                \n",
       "2019-07-22 04:00:00+00:00      186383  297.748117          NaN  111.41   \n",
       "2019-07-23 04:00:00+00:00      208847  299.177015     0.007150  111.27   \n",
       "2019-07-24 04:00:00+00:00      204882  300.570907     0.004700  111.33   \n",
       "2019-07-25 04:00:00+00:00      266901  300.079179    -0.004777  111.33   \n",
       "2019-07-26 04:00:00+00:00      195123  301.590773     0.006700  111.32   \n",
       "\n",
       "                                                                          \\\n",
       "                             high       low   close   volume trade_count   \n",
       "timestamp                                                                  \n",
       "2019-07-22 04:00:00+00:00  111.41  111.3000  111.31  2855073        7937   \n",
       "2019-07-23 04:00:00+00:00  111.32  111.1600  111.20  2659305       10894   \n",
       "2019-07-24 04:00:00+00:00  111.41  111.2950  111.36  2783461       12750   \n",
       "2019-07-25 04:00:00+00:00  111.33  111.0474  111.19  2977486       11325   \n",
       "2019-07-26 04:00:00+00:00  111.32  111.1400  111.21  4669863       11477   \n",
       "\n",
       "                                                    \n",
       "                                 vwap daily_return  \n",
       "timestamp                                           \n",
       "2019-07-22 04:00:00+00:00  111.344721          NaN  \n",
       "2019-07-23 04:00:00+00:00  111.219201    -0.000988  \n",
       "2019-07-24 04:00:00+00:00  111.337833     0.001439  \n",
       "2019-07-25 04:00:00+00:00  111.190464    -0.001527  \n",
       "2019-07-26 04:00:00+00:00  111.195450     0.000180  "
      ]
     },
     "execution_count": 92,
     "metadata": {},
     "output_type": "execute_result"
    }
   ],
   "source": [
    "# Review the simulation input data\n",
    "MC_ten_years.portfolio_data.head()"
   ]
  },
  {
   "cell_type": "code",
   "execution_count": 93,
   "metadata": {},
   "outputs": [],
   "source": [
    "# Run the Monte Carlo simulation to forecast 10 years cumulative returns\n",
    "# YOUR CODE HERE\n",
    "# code will be listed in the next cell to ensure answer_neatness"
   ]
  },
  {
   "cell_type": "code",
   "execution_count": 94,
   "metadata": {},
   "outputs": [
    {
     "name": "stdout",
     "output_type": "stream",
     "text": [
      "Running Monte Carlo simulation number 0.\n",
      "Running Monte Carlo simulation number 10.\n",
      "Running Monte Carlo simulation number 20.\n",
      "Running Monte Carlo simulation number 30.\n",
      "Running Monte Carlo simulation number 40.\n",
      "Running Monte Carlo simulation number 50.\n",
      "Running Monte Carlo simulation number 60.\n",
      "Running Monte Carlo simulation number 70.\n",
      "Running Monte Carlo simulation number 80.\n",
      "Running Monte Carlo simulation number 90.\n",
      "Running Monte Carlo simulation number 100.\n"
     ]
    },
    {
     "name": "stderr",
     "output_type": "stream",
     "text": [
      "/Users/imac/Desktop/ver 5/MCForecastTools.py:117: PerformanceWarning: DataFrame is highly fragmented.  This is usually the result of calling `frame.insert` many times, which has poor performance.  Consider joining all columns at once using pd.concat(axis=1) instead.  To get a de-fragmented frame, use `newframe = frame.copy()`\n",
      "  portfolio_cumulative_returns[n] = (1 + sim_df.fillna(0)).cumprod()\n"
     ]
    },
    {
     "name": "stdout",
     "output_type": "stream",
     "text": [
      "Running Monte Carlo simulation number 110.\n",
      "Running Monte Carlo simulation number 120.\n",
      "Running Monte Carlo simulation number 130.\n",
      "Running Monte Carlo simulation number 140.\n",
      "Running Monte Carlo simulation number 150.\n",
      "Running Monte Carlo simulation number 160.\n",
      "Running Monte Carlo simulation number 170.\n",
      "Running Monte Carlo simulation number 180.\n",
      "Running Monte Carlo simulation number 190.\n",
      "Running Monte Carlo simulation number 200.\n",
      "Running Monte Carlo simulation number 210.\n",
      "Running Monte Carlo simulation number 220.\n",
      "Running Monte Carlo simulation number 230.\n",
      "Running Monte Carlo simulation number 240.\n",
      "Running Monte Carlo simulation number 250.\n",
      "Running Monte Carlo simulation number 260.\n",
      "Running Monte Carlo simulation number 270.\n",
      "Running Monte Carlo simulation number 280.\n",
      "Running Monte Carlo simulation number 290.\n",
      "Running Monte Carlo simulation number 300.\n",
      "Running Monte Carlo simulation number 310.\n",
      "Running Monte Carlo simulation number 320.\n",
      "Running Monte Carlo simulation number 330.\n",
      "Running Monte Carlo simulation number 340.\n",
      "Running Monte Carlo simulation number 350.\n",
      "Running Monte Carlo simulation number 360.\n",
      "Running Monte Carlo simulation number 370.\n",
      "Running Monte Carlo simulation number 380.\n",
      "Running Monte Carlo simulation number 390.\n",
      "Running Monte Carlo simulation number 400.\n",
      "Running Monte Carlo simulation number 410.\n",
      "Running Monte Carlo simulation number 420.\n",
      "Running Monte Carlo simulation number 430.\n",
      "Running Monte Carlo simulation number 440.\n",
      "Running Monte Carlo simulation number 450.\n",
      "Running Monte Carlo simulation number 460.\n",
      "Running Monte Carlo simulation number 470.\n",
      "Running Monte Carlo simulation number 480.\n",
      "Running Monte Carlo simulation number 490.\n"
     ]
    },
    {
     "data": {
      "text/html": [
       "<div>\n",
       "<style scoped>\n",
       "    .dataframe tbody tr th:only-of-type {\n",
       "        vertical-align: middle;\n",
       "    }\n",
       "\n",
       "    .dataframe tbody tr th {\n",
       "        vertical-align: top;\n",
       "    }\n",
       "\n",
       "    .dataframe thead th {\n",
       "        text-align: right;\n",
       "    }\n",
       "</style>\n",
       "<table border=\"1\" class=\"dataframe\">\n",
       "  <thead>\n",
       "    <tr style=\"text-align: right;\">\n",
       "      <th></th>\n",
       "      <th>0</th>\n",
       "      <th>1</th>\n",
       "      <th>2</th>\n",
       "      <th>3</th>\n",
       "      <th>4</th>\n",
       "      <th>5</th>\n",
       "      <th>6</th>\n",
       "      <th>7</th>\n",
       "      <th>8</th>\n",
       "      <th>9</th>\n",
       "      <th>...</th>\n",
       "      <th>490</th>\n",
       "      <th>491</th>\n",
       "      <th>492</th>\n",
       "      <th>493</th>\n",
       "      <th>494</th>\n",
       "      <th>495</th>\n",
       "      <th>496</th>\n",
       "      <th>497</th>\n",
       "      <th>498</th>\n",
       "      <th>499</th>\n",
       "    </tr>\n",
       "  </thead>\n",
       "  <tbody>\n",
       "    <tr>\n",
       "      <th>0</th>\n",
       "      <td>1.000000</td>\n",
       "      <td>1.000000</td>\n",
       "      <td>1.000000</td>\n",
       "      <td>1.000000</td>\n",
       "      <td>1.000000</td>\n",
       "      <td>1.000000</td>\n",
       "      <td>1.000000</td>\n",
       "      <td>1.000000</td>\n",
       "      <td>1.000000</td>\n",
       "      <td>1.000000</td>\n",
       "      <td>...</td>\n",
       "      <td>1.000000</td>\n",
       "      <td>1.000000</td>\n",
       "      <td>1.000000</td>\n",
       "      <td>1.000000</td>\n",
       "      <td>1.000000</td>\n",
       "      <td>1.000000</td>\n",
       "      <td>1.000000</td>\n",
       "      <td>1.000000</td>\n",
       "      <td>1.000000</td>\n",
       "      <td>1.000000</td>\n",
       "    </tr>\n",
       "    <tr>\n",
       "      <th>1</th>\n",
       "      <td>1.000689</td>\n",
       "      <td>1.020491</td>\n",
       "      <td>1.004991</td>\n",
       "      <td>1.003897</td>\n",
       "      <td>0.993296</td>\n",
       "      <td>1.007740</td>\n",
       "      <td>1.017865</td>\n",
       "      <td>0.989301</td>\n",
       "      <td>0.996924</td>\n",
       "      <td>1.003618</td>\n",
       "      <td>...</td>\n",
       "      <td>0.973979</td>\n",
       "      <td>1.034059</td>\n",
       "      <td>0.991802</td>\n",
       "      <td>1.000769</td>\n",
       "      <td>1.001186</td>\n",
       "      <td>0.982047</td>\n",
       "      <td>1.020188</td>\n",
       "      <td>0.995282</td>\n",
       "      <td>1.013775</td>\n",
       "      <td>0.985617</td>\n",
       "    </tr>\n",
       "    <tr>\n",
       "      <th>2</th>\n",
       "      <td>0.996740</td>\n",
       "      <td>1.011918</td>\n",
       "      <td>0.992444</td>\n",
       "      <td>1.024488</td>\n",
       "      <td>0.989879</td>\n",
       "      <td>0.973448</td>\n",
       "      <td>1.017480</td>\n",
       "      <td>0.981595</td>\n",
       "      <td>0.988912</td>\n",
       "      <td>1.021065</td>\n",
       "      <td>...</td>\n",
       "      <td>0.983841</td>\n",
       "      <td>1.024509</td>\n",
       "      <td>0.990722</td>\n",
       "      <td>0.999144</td>\n",
       "      <td>0.994750</td>\n",
       "      <td>0.963588</td>\n",
       "      <td>1.019219</td>\n",
       "      <td>0.995431</td>\n",
       "      <td>1.019415</td>\n",
       "      <td>1.007390</td>\n",
       "    </tr>\n",
       "    <tr>\n",
       "      <th>3</th>\n",
       "      <td>0.999000</td>\n",
       "      <td>1.008053</td>\n",
       "      <td>0.981074</td>\n",
       "      <td>1.030306</td>\n",
       "      <td>0.998611</td>\n",
       "      <td>0.981841</td>\n",
       "      <td>0.994909</td>\n",
       "      <td>0.998924</td>\n",
       "      <td>1.012000</td>\n",
       "      <td>1.031222</td>\n",
       "      <td>...</td>\n",
       "      <td>0.980399</td>\n",
       "      <td>1.025660</td>\n",
       "      <td>0.979785</td>\n",
       "      <td>0.998889</td>\n",
       "      <td>1.008103</td>\n",
       "      <td>0.953916</td>\n",
       "      <td>1.032440</td>\n",
       "      <td>0.999421</td>\n",
       "      <td>1.026051</td>\n",
       "      <td>1.008978</td>\n",
       "    </tr>\n",
       "    <tr>\n",
       "      <th>4</th>\n",
       "      <td>1.005806</td>\n",
       "      <td>1.016488</td>\n",
       "      <td>0.978774</td>\n",
       "      <td>1.019033</td>\n",
       "      <td>0.989190</td>\n",
       "      <td>0.977066</td>\n",
       "      <td>1.003589</td>\n",
       "      <td>1.010673</td>\n",
       "      <td>1.015960</td>\n",
       "      <td>1.035450</td>\n",
       "      <td>...</td>\n",
       "      <td>0.960327</td>\n",
       "      <td>1.001387</td>\n",
       "      <td>0.972571</td>\n",
       "      <td>0.990626</td>\n",
       "      <td>1.033017</td>\n",
       "      <td>0.960546</td>\n",
       "      <td>1.039911</td>\n",
       "      <td>0.996081</td>\n",
       "      <td>1.035063</td>\n",
       "      <td>1.010879</td>\n",
       "    </tr>\n",
       "    <tr>\n",
       "      <th>...</th>\n",
       "      <td>...</td>\n",
       "      <td>...</td>\n",
       "      <td>...</td>\n",
       "      <td>...</td>\n",
       "      <td>...</td>\n",
       "      <td>...</td>\n",
       "      <td>...</td>\n",
       "      <td>...</td>\n",
       "      <td>...</td>\n",
       "      <td>...</td>\n",
       "      <td>...</td>\n",
       "      <td>...</td>\n",
       "      <td>...</td>\n",
       "      <td>...</td>\n",
       "      <td>...</td>\n",
       "      <td>...</td>\n",
       "      <td>...</td>\n",
       "      <td>...</td>\n",
       "      <td>...</td>\n",
       "      <td>...</td>\n",
       "      <td>...</td>\n",
       "    </tr>\n",
       "    <tr>\n",
       "      <th>2516</th>\n",
       "      <td>2.306118</td>\n",
       "      <td>3.129352</td>\n",
       "      <td>13.037447</td>\n",
       "      <td>2.108619</td>\n",
       "      <td>1.055835</td>\n",
       "      <td>2.339166</td>\n",
       "      <td>1.445997</td>\n",
       "      <td>1.682163</td>\n",
       "      <td>1.533050</td>\n",
       "      <td>2.694487</td>\n",
       "      <td>...</td>\n",
       "      <td>2.147397</td>\n",
       "      <td>5.655778</td>\n",
       "      <td>1.353709</td>\n",
       "      <td>0.657528</td>\n",
       "      <td>0.905341</td>\n",
       "      <td>1.680695</td>\n",
       "      <td>3.014408</td>\n",
       "      <td>1.608120</td>\n",
       "      <td>1.390230</td>\n",
       "      <td>1.842467</td>\n",
       "    </tr>\n",
       "    <tr>\n",
       "      <th>2517</th>\n",
       "      <td>2.291561</td>\n",
       "      <td>3.069528</td>\n",
       "      <td>13.081011</td>\n",
       "      <td>2.163761</td>\n",
       "      <td>1.058407</td>\n",
       "      <td>2.391494</td>\n",
       "      <td>1.442139</td>\n",
       "      <td>1.669106</td>\n",
       "      <td>1.542038</td>\n",
       "      <td>2.676182</td>\n",
       "      <td>...</td>\n",
       "      <td>2.123902</td>\n",
       "      <td>5.612534</td>\n",
       "      <td>1.356781</td>\n",
       "      <td>0.659243</td>\n",
       "      <td>0.897183</td>\n",
       "      <td>1.670148</td>\n",
       "      <td>3.018105</td>\n",
       "      <td>1.592547</td>\n",
       "      <td>1.401944</td>\n",
       "      <td>1.860509</td>\n",
       "    </tr>\n",
       "    <tr>\n",
       "      <th>2518</th>\n",
       "      <td>2.233265</td>\n",
       "      <td>3.098212</td>\n",
       "      <td>13.094659</td>\n",
       "      <td>2.125688</td>\n",
       "      <td>1.067555</td>\n",
       "      <td>2.423694</td>\n",
       "      <td>1.425336</td>\n",
       "      <td>1.655033</td>\n",
       "      <td>1.541368</td>\n",
       "      <td>2.644886</td>\n",
       "      <td>...</td>\n",
       "      <td>2.102424</td>\n",
       "      <td>5.713681</td>\n",
       "      <td>1.344602</td>\n",
       "      <td>0.657108</td>\n",
       "      <td>0.905856</td>\n",
       "      <td>1.691060</td>\n",
       "      <td>2.982350</td>\n",
       "      <td>1.577911</td>\n",
       "      <td>1.399501</td>\n",
       "      <td>1.847423</td>\n",
       "    </tr>\n",
       "    <tr>\n",
       "      <th>2519</th>\n",
       "      <td>2.218453</td>\n",
       "      <td>3.111193</td>\n",
       "      <td>13.154975</td>\n",
       "      <td>2.157119</td>\n",
       "      <td>1.052904</td>\n",
       "      <td>2.416470</td>\n",
       "      <td>1.406245</td>\n",
       "      <td>1.669327</td>\n",
       "      <td>1.534077</td>\n",
       "      <td>2.528930</td>\n",
       "      <td>...</td>\n",
       "      <td>2.093375</td>\n",
       "      <td>5.864821</td>\n",
       "      <td>1.348443</td>\n",
       "      <td>0.663374</td>\n",
       "      <td>0.915681</td>\n",
       "      <td>1.707085</td>\n",
       "      <td>2.949677</td>\n",
       "      <td>1.554806</td>\n",
       "      <td>1.414577</td>\n",
       "      <td>1.833252</td>\n",
       "    </tr>\n",
       "    <tr>\n",
       "      <th>2520</th>\n",
       "      <td>2.209209</td>\n",
       "      <td>3.142373</td>\n",
       "      <td>13.242976</td>\n",
       "      <td>2.144583</td>\n",
       "      <td>1.048239</td>\n",
       "      <td>2.442454</td>\n",
       "      <td>1.404134</td>\n",
       "      <td>1.674489</td>\n",
       "      <td>1.557313</td>\n",
       "      <td>2.537004</td>\n",
       "      <td>...</td>\n",
       "      <td>2.093912</td>\n",
       "      <td>5.875105</td>\n",
       "      <td>1.344927</td>\n",
       "      <td>0.658978</td>\n",
       "      <td>0.914164</td>\n",
       "      <td>1.699206</td>\n",
       "      <td>2.935648</td>\n",
       "      <td>1.552789</td>\n",
       "      <td>1.410714</td>\n",
       "      <td>1.814157</td>\n",
       "    </tr>\n",
       "  </tbody>\n",
       "</table>\n",
       "<p>2521 rows × 500 columns</p>\n",
       "</div>"
      ],
      "text/plain": [
       "           0         1          2         3         4         5         6    \\\n",
       "0     1.000000  1.000000   1.000000  1.000000  1.000000  1.000000  1.000000   \n",
       "1     1.000689  1.020491   1.004991  1.003897  0.993296  1.007740  1.017865   \n",
       "2     0.996740  1.011918   0.992444  1.024488  0.989879  0.973448  1.017480   \n",
       "3     0.999000  1.008053   0.981074  1.030306  0.998611  0.981841  0.994909   \n",
       "4     1.005806  1.016488   0.978774  1.019033  0.989190  0.977066  1.003589   \n",
       "...        ...       ...        ...       ...       ...       ...       ...   \n",
       "2516  2.306118  3.129352  13.037447  2.108619  1.055835  2.339166  1.445997   \n",
       "2517  2.291561  3.069528  13.081011  2.163761  1.058407  2.391494  1.442139   \n",
       "2518  2.233265  3.098212  13.094659  2.125688  1.067555  2.423694  1.425336   \n",
       "2519  2.218453  3.111193  13.154975  2.157119  1.052904  2.416470  1.406245   \n",
       "2520  2.209209  3.142373  13.242976  2.144583  1.048239  2.442454  1.404134   \n",
       "\n",
       "           7         8         9    ...       490       491       492  \\\n",
       "0     1.000000  1.000000  1.000000  ...  1.000000  1.000000  1.000000   \n",
       "1     0.989301  0.996924  1.003618  ...  0.973979  1.034059  0.991802   \n",
       "2     0.981595  0.988912  1.021065  ...  0.983841  1.024509  0.990722   \n",
       "3     0.998924  1.012000  1.031222  ...  0.980399  1.025660  0.979785   \n",
       "4     1.010673  1.015960  1.035450  ...  0.960327  1.001387  0.972571   \n",
       "...        ...       ...       ...  ...       ...       ...       ...   \n",
       "2516  1.682163  1.533050  2.694487  ...  2.147397  5.655778  1.353709   \n",
       "2517  1.669106  1.542038  2.676182  ...  2.123902  5.612534  1.356781   \n",
       "2518  1.655033  1.541368  2.644886  ...  2.102424  5.713681  1.344602   \n",
       "2519  1.669327  1.534077  2.528930  ...  2.093375  5.864821  1.348443   \n",
       "2520  1.674489  1.557313  2.537004  ...  2.093912  5.875105  1.344927   \n",
       "\n",
       "           493       494       495       496       497       498       499  \n",
       "0     1.000000  1.000000  1.000000  1.000000  1.000000  1.000000  1.000000  \n",
       "1     1.000769  1.001186  0.982047  1.020188  0.995282  1.013775  0.985617  \n",
       "2     0.999144  0.994750  0.963588  1.019219  0.995431  1.019415  1.007390  \n",
       "3     0.998889  1.008103  0.953916  1.032440  0.999421  1.026051  1.008978  \n",
       "4     0.990626  1.033017  0.960546  1.039911  0.996081  1.035063  1.010879  \n",
       "...        ...       ...       ...       ...       ...       ...       ...  \n",
       "2516  0.657528  0.905341  1.680695  3.014408  1.608120  1.390230  1.842467  \n",
       "2517  0.659243  0.897183  1.670148  3.018105  1.592547  1.401944  1.860509  \n",
       "2518  0.657108  0.905856  1.691060  2.982350  1.577911  1.399501  1.847423  \n",
       "2519  0.663374  0.915681  1.707085  2.949677  1.554806  1.414577  1.833252  \n",
       "2520  0.658978  0.914164  1.699206  2.935648  1.552789  1.410714  1.814157  \n",
       "\n",
       "[2521 rows x 500 columns]"
      ]
     },
     "execution_count": 94,
     "metadata": {},
     "output_type": "execute_result"
    }
   ],
   "source": [
    "# Run the Monte Carlo simulation to forecast 30 years\n",
    "MC_ten_years.calc_cumulative_return()"
   ]
  },
  {
   "cell_type": "code",
   "execution_count": 95,
   "metadata": {},
   "outputs": [],
   "source": [
    "# Visualize the 10-year Monte Carlo simulation by creating an\n",
    "# overlay line plot\n",
    "# YOUR CODE HERE\n",
    "# code will be listed in the next cell to ensure answer_neatness"
   ]
  },
  {
   "cell_type": "code",
   "execution_count": 96,
   "metadata": {},
   "outputs": [
    {
     "data": {
      "image/png": "[encoded data removed]",
      "text/plain": [
       "<Figure size 432x288 with 1 Axes>"
      ]
     },
     "metadata": {
      "needs_background": "light"
     },
     "output_type": "display_data"
    }
   ],
   "source": [
    "#Plot an overlay line plot\n",
    "MC_sim_line_plot_ten = MC_ten_years.plot_simulation()"
   ]
  },
  {
   "cell_type": "code",
   "execution_count": 97,
   "metadata": {},
   "outputs": [],
   "source": [
    "# Visualize the probability distribution of the 10-year Monte Carlo simulation \n",
    "# by plotting a histogram\n",
    "# YOUR CODE HERE\n",
    "# code will be listed in the next cell to ensure answer_neatness"
   ]
  },
  {
   "cell_type": "code",
   "execution_count": 98,
   "metadata": {},
   "outputs": [
    {
     "data": {
      "image/png": "[encoded data removed]",
      "text/plain": [
       "<Figure size 432x288 with 1 Axes>"
      ]
     },
     "metadata": {
      "needs_background": "light"
     },
     "output_type": "display_data"
    }
   ],
   "source": [
    "# Plot probability distribution and plot a histogram\n",
    "MC_sim_dist_plot_ten = MC_ten_years.plot_distribution()"
   ]
  },
  {
   "cell_type": "code",
   "execution_count": 99,
   "metadata": {},
   "outputs": [],
   "source": [
    "# Generate summary statistics from the 10-year Monte Carlo simulation results\n",
    "# Save the results as a variable\n",
    "# YOUR CODE HERE\n",
    "\n",
    "\n",
    "# Review the 10-year Monte Carlo summary statistics\n",
    "# YOUR CODE HERE\n",
    "# code will be listed in the next cell to ensure answer_neatness"
   ]
  },
  {
   "cell_type": "code",
   "execution_count": 100,
   "metadata": {},
   "outputs": [],
   "source": [
    "# Generate summary statistics fro the Monte Carlo Simulation and save in a variable\n",
    "MC_summary_statistics_ten = MC_ten_years.summarize_cumulative_return()"
   ]
  },
  {
   "cell_type": "code",
   "execution_count": 101,
   "metadata": {},
   "outputs": [
    {
     "name": "stdout",
     "output_type": "stream",
     "text": [
      "count           500.000000\n",
      "mean              2.495518\n",
      "std               1.642750\n",
      "min               0.271033\n",
      "25%               1.328882\n",
      "50%               2.120429\n",
      "75%               3.115834\n",
      "max              13.242976\n",
      "95% CI Lower      0.617751\n",
      "95% CI Upper      6.748892\n",
      "Name: 2520, dtype: float64\n"
     ]
    }
   ],
   "source": [
    "# review the 10_year Monte Carlo\n",
    "print(MC_summary_statistics_ten)"
   ]
  },
  {
   "cell_type": "markdown",
   "metadata": {},
   "source": [
    "### Answer the following questions:"
   ]
  },
  {
   "cell_type": "markdown",
   "metadata": {},
   "source": [
    "#### Question: Using the current value of only the stock and bond portion of the member's portfolio and the summary statistics that you generated from the new Monte Carlo simulation, what are the lower and upper bounds for the expected value of the portfolio (with the new weights) with a 95% confidence interval?"
   ]
  },
  {
   "cell_type": "code",
   "execution_count": 102,
   "metadata": {},
   "outputs": [],
   "source": [
    "# Print the current balance of the stock and bond portion of the members portfolio\n",
    "# YOUR CODE HERE\n",
    "# code will be listed in the next cell to ensure answer_neatness"
   ]
  },
  {
   "cell_type": "code",
   "execution_count": 103,
   "metadata": {},
   "outputs": [
    {
     "name": "stdout",
     "output_type": "stream",
     "text": [
      "The current balance of the stock and bond portion of the members portfolio is: $62814.3\n"
     ]
    }
   ],
   "source": [
    "print(f\"The current balance of the stock and bond portion of the members portfolio is: ${total_stock_bonds}\")"
   ]
  },
  {
   "cell_type": "code",
   "execution_count": 104,
   "metadata": {},
   "outputs": [],
   "source": [
    "# Use the lower and upper `95%` confidence intervals to calculate the range of the possible outcomes for the current stock/bond portfolio\n",
    "#ci_lower_ten_cumulative_return = # YOUR CODE HERE\n",
    "#ci_upper_ten_cumulative_return = # YOUR CODE HERE\n",
    "\n",
    "# Print the result of your calculations\n",
    "# YOUR CODE HERE\n",
    "# code will be listed in the next cell to ensure answer_neatness"
   ]
  },
  {
   "cell_type": "code",
   "execution_count": 105,
   "metadata": {},
   "outputs": [
    {
     "name": "stdout",
     "output_type": "stream",
     "text": [
      "There is a 95% chance that an initial investment of $62814.3 in the portfolio over the next 10 years will end within in the range of $ 38803.61 and $ 423926.93.\n"
     ]
    }
   ],
   "source": [
    "# Calculate the range of the possible outcomes for the cruuent stock/bonds portfolio\n",
    "ci_lower_ten_cumulative_return = MC_summary_statistics_ten[8] * total_stock_bonds\n",
    "ci_upper_ten_cumulative_return = MC_summary_statistics_ten[9] * total_stock_bonds\n",
    "\n",
    "print(f\"There is a 95% chance that an initial investment of ${total_stock_bonds} in the portfolio\"\n",
    "    f\" over the next 10 years will end within in the range of\"\n",
    "    f\" ${ci_lower_ten_cumulative_return: .2f} and ${ci_upper_ten_cumulative_return: .2f}.\")"
   ]
  },
  {
   "cell_type": "markdown",
   "metadata": {},
   "source": [
    "#### Question: Will weighting the portfolio more heavily to stocks allow the credit union members to retire after only 10 years?"
   ]
  },
  {
   "cell_type": "raw",
   "metadata": {},
   "source": [
    "**Answer** # YOUR ANSWER HERE\n",
    "\n",
    "  > Through the data of decreasing retire year from 30 to 10\n",
    "  and with higher risk of weight stock more than bond\n",
    "  We found that although the 95% ci upper remains the same, which is 6.86 of ten years vs 22.09 of thirty years\n",
    "  however, the CI lower risk increases rapidly, which from 1.044 of 30 years to 0.64 of ten years\n",
    "  Weighting the portfolio more heavily to stocks seems not allow the credit union members to retire after 10 years\n",
    "  \n",
    "  please note the simulator use random number, so the 95 ci lower and upper index may varies"
   ]
  }
 ],
 "metadata": {
  "kernelspec": {
   "display_name": "Python 3",
   "language": "python",
   "name": "python3"
  },
  "language_info": {
   "codemirror_mode": {
    "name": "ipython",
    "version": 3
   },
   "file_extension": ".py",
   "mimetype": "text/x-python",
   "name": "python",
   "nbconvert_exporter": "python",
   "pygments_lexer": "ipython3",
   "version": "3.7.4"
  }
 },
 "nbformat": 4,
 "nbformat_minor": 4
}
